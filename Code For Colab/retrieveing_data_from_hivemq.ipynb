{
  "cells": [
    {
      "cell_type": "code",
      "execution_count": null,
      "metadata": {
        "colab": {
          "base_uri": "https://localhost:8080/"
        },
        "id": "fMYKXl87n9r5",
        "outputId": "22f5d751-2239-4ea8-932a-5ad090f9e177"
      },
      "outputs": [
        {
          "name": "stdout",
          "output_type": "stream",
          "text": [
            "Requirement already satisfied: paho-mqtt in /usr/local/lib/python3.10/dist-packages (2.1.0)\n"
          ]
        }
      ],
      "source": [
        "!pip install paho-mqtt"
      ]
    },
    {
      "cell_type": "code",
      "execution_count": null,
      "metadata": {
        "colab": {
          "base_uri": "https://localhost:8080/"
        },
        "id": "fbEctWNXCj7N",
        "outputId": "a76c5514-7e2b-4627-aea1-042073c60284"
      },
      "outputs": [
        {
          "name": "stdout",
          "output_type": "stream",
          "text": [
            "[1]\n",
            "[[0.2 0.8]]\n",
            "(1, 4)\n"
          ]
        },
        {
          "name": "stderr",
          "output_type": "stream",
          "text": [
            "/usr/local/lib/python3.10/dist-packages/sklearn/base.py:493: UserWarning: X does not have valid feature names, but RandomForestClassifier was fitted with feature names\n",
            "  warnings.warn(\n",
            "/usr/local/lib/python3.10/dist-packages/sklearn/base.py:493: UserWarning: X does not have valid feature names, but RandomForestClassifier was fitted with feature names\n",
            "  warnings.warn(\n"
          ]
        }
      ],
      "source": [
        "import joblib\n",
        "# Load the model from the file\n",
        "model = joblib.load('/content/drive/MyDrive/Colab Notebooks/IoT/Final Project/random_forest_model/random_forest_model.pkl')\n",
        "\n",
        "# Use the model to make predictions on new data\n",
        "# Example: [temp1, temp2, hum1, press2]\n",
        "X_new_data = np.array([27, 30, 80, 98300.24])\n",
        "X_new_data = X_new_data.reshape(1, -1)\n",
        "\n",
        "y_pred = model.predict(X_new_data)\n",
        "y_prob = model.predict_proba(X_new_data)\n",
        "\n",
        "print(y_pred)\n",
        "print(y_prob)\n",
        "print(X_new_data.shape)"
      ]
    },
    {
      "cell_type": "code",
      "execution_count": 10,
      "metadata": {
        "colab": {
          "base_uri": "https://localhost:8080/",
          "height": 1000
        },
        "collapsed": true,
        "id": "iN88aijNDXrU",
        "outputId": "3eacbe77-7227-4e76-d597-f2c170276cb0"
      },
      "outputs": [
        {
          "metadata": {
            "tags": null
          },
          "name": "stderr",
          "output_type": "stream",
          "text": [
            "<ipython-input-10-dd8d1889e9ca>:85: DeprecationWarning: Callback API version 1 is deprecated, update to latest version\n",
            "  client = mqtt.Client()\n"
          ]
        },
        {
          "metadata": {
            "tags": null
          },
          "name": "stdout",
          "output_type": "stream",
          "text": [
            "Subscribed to topics ['room1/temperature1', 'room1/humidity1', 'room2/temperature2', 'room2/pressure2'] and listening for messages...\n",
            "Connected with result code 0\n",
            "Subscribed to topic: room1/temperature1\n",
            "Subscribed to topic: room1/humidity1\n",
            "Subscribed to topic: room2/temperature2\n",
            "Subscribed to topic: room2/pressure2\n",
            "Received message: 22.43 on topic: room2/temperature2\n",
            "Received message: 21.9 on topic: room1/temperature1\n",
            "Received message: 99638.59 on topic: room2/pressure2\n",
            "Received message: 11.8 on topic: room1/humidity1\n",
            "Input vector for model: [[2.190000e+01 2.153000e+01 7.800000e+00 9.928859e+04]]\n",
            "predictin_prob: [[0.69 0.31]]\n",
            "Normal data.\n",
            "Published decision: 'Normal data.' to topic: 'anomaly/detection'\n"
          ]
        },
        {
          "metadata": {
            "tags": null
          },
          "name": "stderr",
          "output_type": "stream",
          "text": [
            "/usr/local/lib/python3.10/dist-packages/sklearn/base.py:493: UserWarning: X does not have valid feature names, but RandomForestClassifier was fitted with feature names\n",
            "  warnings.warn(\n"
          ]
        },
        {
          "metadata": {
            "tags": null
          },
          "name": "stdout",
          "output_type": "stream",
          "text": [
            "Received message: 22.43 on topic: room2/temperature2\n",
            "Input vector for model: [[2.190000e+01 2.153000e+01 7.800000e+00 9.928859e+04]]\n",
            "predictin_prob: [[0.69 0.31]]\n",
            "Normal data.\n",
            "Published decision: 'Normal data.' to topic: 'anomaly/detection'\n",
            "Received message: 21.9 on topic: room1/temperature1\n",
            "Input vector for model: [[2.190000e+01 2.153000e+01 7.800000e+00 9.928859e+04]]\n",
            "predictin_prob: [[0.69 0.31]]\n",
            "Normal data.\n",
            "Published decision: 'Normal data.' to topic: 'anomaly/detection'\n",
            "Received message: 99638.59 on topic: room2/pressure2\n",
            "Input vector for model: [[2.190000e+01 2.153000e+01 7.800000e+00 9.928859e+04]]\n",
            "predictin_prob: [[0.69 0.31]]\n",
            "Normal data.\n",
            "Published decision: 'Normal data.' to topic: 'anomaly/detection'\n",
            "Received message: 11.8 on topic: room1/humidity1\n",
            "Input vector for model: [[2.190000e+01 2.153000e+01 7.800000e+00 9.928859e+04]]\n",
            "predictin_prob: [[0.69 0.31]]\n",
            "Normal data.\n",
            "Published decision: 'Normal data.' to topic: 'anomaly/detection'\n"
          ]
        },
        {
          "metadata": {
            "tags": null
          },
          "name": "stderr",
          "output_type": "stream",
          "text": [
            "/usr/local/lib/python3.10/dist-packages/sklearn/base.py:493: UserWarning: X does not have valid feature names, but RandomForestClassifier was fitted with feature names\n",
            "  warnings.warn(\n",
            "/usr/local/lib/python3.10/dist-packages/sklearn/base.py:493: UserWarning: X does not have valid feature names, but RandomForestClassifier was fitted with feature names\n",
            "  warnings.warn(\n",
            "/usr/local/lib/python3.10/dist-packages/sklearn/base.py:493: UserWarning: X does not have valid feature names, but RandomForestClassifier was fitted with feature names\n",
            "  warnings.warn(\n",
            "/usr/local/lib/python3.10/dist-packages/sklearn/base.py:493: UserWarning: X does not have valid feature names, but RandomForestClassifier was fitted with feature names\n",
            "  warnings.warn(\n"
          ]
        },
        {
          "metadata": {
            "tags": null
          },
          "name": "stdout",
          "output_type": "stream",
          "text": [
            "Received message: 22.43 on topic: room2/temperature2\n",
            "Input vector for model: [[2.190000e+01 2.153000e+01 7.800000e+00 9.928859e+04]]\n",
            "predictin_prob: [[0.69 0.31]]\n",
            "Normal data.\n",
            "Published decision: 'Normal data.' to topic: 'anomaly/detection'\n",
            "Received message: 21.9 on topic: room1/temperature1\n",
            "Input vector for model: [[2.190000e+01 2.153000e+01 7.800000e+00 9.928859e+04]]\n",
            "predictin_prob: [[0.69 0.31]]\n",
            "Normal data.\n",
            "Published decision: 'Normal data.' to topic: 'anomaly/detection'\n",
            "Received message: 11.8 on topic: room1/humidity1\n",
            "Input vector for model: [[2.190000e+01 2.153000e+01 7.800000e+00 9.928859e+04]]\n",
            "predictin_prob: [[0.69 0.31]]\n",
            "Normal data.\n",
            "Published decision: 'Normal data.' to topic: 'anomaly/detection'\n",
            "Received message: 99637.84 on topic: room2/pressure2\n",
            "Input vector for model: [[2.190000e+01 2.153000e+01 7.800000e+00 9.928784e+04]]\n",
            "predictin_prob: [[0.69 0.31]]\n",
            "Normal data.\n",
            "Published decision: 'Normal data.' to topic: 'anomaly/detection'\n"
          ]
        },
        {
          "metadata": {
            "tags": null
          },
          "name": "stderr",
          "output_type": "stream",
          "text": [
            "/usr/local/lib/python3.10/dist-packages/sklearn/base.py:493: UserWarning: X does not have valid feature names, but RandomForestClassifier was fitted with feature names\n",
            "  warnings.warn(\n",
            "/usr/local/lib/python3.10/dist-packages/sklearn/base.py:493: UserWarning: X does not have valid feature names, but RandomForestClassifier was fitted with feature names\n",
            "  warnings.warn(\n",
            "/usr/local/lib/python3.10/dist-packages/sklearn/base.py:493: UserWarning: X does not have valid feature names, but RandomForestClassifier was fitted with feature names\n",
            "  warnings.warn(\n",
            "/usr/local/lib/python3.10/dist-packages/sklearn/base.py:493: UserWarning: X does not have valid feature names, but RandomForestClassifier was fitted with feature names\n",
            "  warnings.warn(\n"
          ]
        },
        {
          "metadata": {
            "tags": null
          },
          "name": "stdout",
          "output_type": "stream",
          "text": [
            "Received message: 22.43 on topic: room2/temperature2\n",
            "Input vector for model: [[2.190000e+01 2.153000e+01 7.800000e+00 9.928784e+04]]\n",
            "predictin_prob: [[0.69 0.31]]\n",
            "Normal data.\n",
            "Published decision: 'Normal data.' to topic: 'anomaly/detection'\n",
            "Received message: 21.9 on topic: room1/temperature1\n",
            "Input vector for model: [[2.190000e+01 2.153000e+01 7.800000e+00 9.928784e+04]]\n",
            "predictin_prob: [[0.69 0.31]]\n",
            "Normal data.\n",
            "Published decision: 'Normal data.' to topic: 'anomaly/detection'\n",
            "Received message: 11.8 on topic: room1/humidity1\n",
            "Input vector for model: [[2.190000e+01 2.153000e+01 7.800000e+00 9.928784e+04]]\n",
            "predictin_prob: [[0.69 0.31]]\n",
            "Normal data.\n",
            "Published decision: 'Normal data.' to topic: 'anomaly/detection'\n",
            "Received message: 99638.51 on topic: room2/pressure2\n",
            "Input vector for model: [[2.190000e+01 2.153000e+01 7.800000e+00 9.928851e+04]]\n",
            "predictin_prob: [[0.69 0.31]]\n",
            "Normal data.\n",
            "Published decision: 'Normal data.' to topic: 'anomaly/detection'\n"
          ]
        },
        {
          "metadata": {
            "tags": null
          },
          "name": "stderr",
          "output_type": "stream",
          "text": [
            "/usr/local/lib/python3.10/dist-packages/sklearn/base.py:493: UserWarning: X does not have valid feature names, but RandomForestClassifier was fitted with feature names\n",
            "  warnings.warn(\n",
            "/usr/local/lib/python3.10/dist-packages/sklearn/base.py:493: UserWarning: X does not have valid feature names, but RandomForestClassifier was fitted with feature names\n",
            "  warnings.warn(\n",
            "/usr/local/lib/python3.10/dist-packages/sklearn/base.py:493: UserWarning: X does not have valid feature names, but RandomForestClassifier was fitted with feature names\n",
            "  warnings.warn(\n",
            "/usr/local/lib/python3.10/dist-packages/sklearn/base.py:493: UserWarning: X does not have valid feature names, but RandomForestClassifier was fitted with feature names\n",
            "  warnings.warn(\n"
          ]
        },
        {
          "metadata": {
            "tags": null
          },
          "name": "stdout",
          "output_type": "stream",
          "text": [
            "Received message: 22.43 on topic: room2/temperature2\n",
            "Input vector for model: [[2.190000e+01 2.153000e+01 7.800000e+00 9.928851e+04]]\n",
            "predictin_prob: [[0.69 0.31]]\n",
            "Normal data.\n",
            "Published decision: 'Normal data.' to topic: 'anomaly/detection'\n",
            "Received message: 21.9 on topic: room1/temperature1\n",
            "Input vector for model: [[2.190000e+01 2.153000e+01 7.800000e+00 9.928851e+04]]\n",
            "predictin_prob: [[0.69 0.31]]\n",
            "Normal data.\n",
            "Published decision: 'Normal data.' to topic: 'anomaly/detection'\n",
            "Received message: 21.9 on topic: room1/temperature1\n",
            "Input vector for model: [[2.190000e+01 2.153000e+01 7.800000e+00 9.928851e+04]]\n",
            "predictin_prob: [[0.69 0.31]]\n",
            "Normal data.\n",
            "Published decision: 'Normal data.' to topic: 'anomaly/detection'\n",
            "Received message: 11.8 on topic: room1/humidity1\n",
            "Input vector for model: [[2.190000e+01 2.153000e+01 7.800000e+00 9.928851e+04]]\n",
            "predictin_prob: [[0.69 0.31]]\n",
            "Normal data.\n",
            "Published decision: 'Normal data.' to topic: 'anomaly/detection'\n",
            "Received message: 99637.92 on topic: room2/pressure2\n",
            "Input vector for model: [[2.190000e+01 2.153000e+01 7.800000e+00 9.928792e+04]]\n",
            "predictin_prob: [[0.69 0.31]]\n",
            "Normal data.\n",
            "Published decision: 'Normal data.' to topic: 'anomaly/detection'\n"
          ]
        },
        {
          "metadata": {
            "tags": null
          },
          "name": "stderr",
          "output_type": "stream",
          "text": [
            "/usr/local/lib/python3.10/dist-packages/sklearn/base.py:493: UserWarning: X does not have valid feature names, but RandomForestClassifier was fitted with feature names\n",
            "  warnings.warn(\n",
            "/usr/local/lib/python3.10/dist-packages/sklearn/base.py:493: UserWarning: X does not have valid feature names, but RandomForestClassifier was fitted with feature names\n",
            "  warnings.warn(\n",
            "/usr/local/lib/python3.10/dist-packages/sklearn/base.py:493: UserWarning: X does not have valid feature names, but RandomForestClassifier was fitted with feature names\n",
            "  warnings.warn(\n",
            "/usr/local/lib/python3.10/dist-packages/sklearn/base.py:493: UserWarning: X does not have valid feature names, but RandomForestClassifier was fitted with feature names\n",
            "  warnings.warn(\n",
            "/usr/local/lib/python3.10/dist-packages/sklearn/base.py:493: UserWarning: X does not have valid feature names, but RandomForestClassifier was fitted with feature names\n",
            "  warnings.warn(\n"
          ]
        },
        {
          "metadata": {
            "tags": null
          },
          "name": "stdout",
          "output_type": "stream",
          "text": [
            "Received message: 22.44 on topic: room2/temperature2\n",
            "Input vector for model: [[2.190000e+01 2.154000e+01 7.800000e+00 9.928792e+04]]\n",
            "predictin_prob: [[0.69 0.31]]\n",
            "Normal data.\n",
            "Published decision: 'Normal data.' to topic: 'anomaly/detection'\n",
            "Received message: 22.44 on topic: room2/temperature2\n",
            "Input vector for model: [[2.190000e+01 2.154000e+01 7.800000e+00 9.928792e+04]]\n",
            "predictin_prob: [[0.69 0.31]]\n",
            "Normal data.\n",
            "Published decision: 'Normal data.' to topic: 'anomaly/detection'\n",
            "Received message: 21.9 on topic: room1/temperature1\n",
            "Input vector for model: [[2.190000e+01 2.154000e+01 7.800000e+00 9.928792e+04]]\n",
            "predictin_prob: [[0.69 0.31]]\n",
            "Normal data.\n",
            "Published decision: 'Normal data.' to topic: 'anomaly/detection'\n",
            "Received message: 11.8 on topic: room1/humidity1\n",
            "Input vector for model: [[2.190000e+01 2.154000e+01 7.800000e+00 9.928792e+04]]\n",
            "predictin_prob: [[0.69 0.31]]\n",
            "Normal data.\n",
            "Published decision: 'Normal data.' to topic: 'anomaly/detection'\n",
            "Received message: 99638.69 on topic: room2/pressure2\n",
            "Input vector for model: [[2.190000e+01 2.154000e+01 7.800000e+00 9.928869e+04]]\n",
            "predictin_prob: [[0.69 0.31]]\n",
            "Normal data.\n",
            "Published decision: 'Normal data.' to topic: 'anomaly/detection'\n",
            "Received message: 11.7 on topic: room1/humidity1\n",
            "Input vector for model: [[2.190000e+01 2.154000e+01 7.700000e+00 9.928869e+04]]\n",
            "predictin_prob: [[0.69 0.31]]\n",
            "Normal data.\n",
            "Published decision: 'Normal data.' to topic: 'anomaly/detection'\n",
            "Received message: 22.43 on topic: room2/temperature2\n",
            "Input vector for model: [[2.190000e+01 2.153000e+01 7.700000e+00 9.928869e+04]]\n",
            "predictin_prob: [[0.69 0.31]]\n",
            "Normal data.\n",
            "Published decision: 'Normal data.' to topic: 'anomaly/detection'\n",
            "Received message: 21.9 on topic: room1/temperature1\n",
            "Input vector for model: [[2.190000e+01 2.153000e+01 7.700000e+00 9.928869e+04]]\n",
            "predictin_prob: [[0.69 0.31]]\n",
            "Normal data.\n",
            "Published decision: 'Normal data.' to topic: 'anomaly/detection'\n",
            "Received message: 99638.69 on topic: room2/pressure2\n",
            "Input vector for model: [[2.190000e+01 2.153000e+01 7.700000e+00 9.928869e+04]]\n",
            "predictin_prob: [[0.69 0.31]]\n",
            "Normal data.\n",
            "Published decision: 'Normal data.' to topic: 'anomaly/detection'\n",
            "Received message: 99639.27 on topic: room2/pressure2\n",
            "Input vector for model: [[2.190000e+01 2.153000e+01 7.700000e+00 9.928927e+04]]\n",
            "predictin_prob: [[0.69 0.31]]\n",
            "Normal data.\n",
            "Published decision: 'Normal data.' to topic: 'anomaly/detection'\n",
            "Received message: 11.7 on topic: room1/humidity1\n",
            "Input vector for model: [[2.190000e+01 2.153000e+01 7.700000e+00 9.928927e+04]]\n",
            "predictin_prob: [[0.69 0.31]]\n",
            "Normal data.\n",
            "Published decision: 'Normal data.' to topic: 'anomaly/detection'\n"
          ]
        },
        {
          "metadata": {
            "tags": null
          },
          "name": "stderr",
          "output_type": "stream",
          "text": [
            "/usr/local/lib/python3.10/dist-packages/sklearn/base.py:493: UserWarning: X does not have valid feature names, but RandomForestClassifier was fitted with feature names\n",
            "  warnings.warn(\n",
            "/usr/local/lib/python3.10/dist-packages/sklearn/base.py:493: UserWarning: X does not have valid feature names, but RandomForestClassifier was fitted with feature names\n",
            "  warnings.warn(\n",
            "/usr/local/lib/python3.10/dist-packages/sklearn/base.py:493: UserWarning: X does not have valid feature names, but RandomForestClassifier was fitted with feature names\n",
            "  warnings.warn(\n",
            "/usr/local/lib/python3.10/dist-packages/sklearn/base.py:493: UserWarning: X does not have valid feature names, but RandomForestClassifier was fitted with feature names\n",
            "  warnings.warn(\n",
            "/usr/local/lib/python3.10/dist-packages/sklearn/base.py:493: UserWarning: X does not have valid feature names, but RandomForestClassifier was fitted with feature names\n",
            "  warnings.warn(\n",
            "/usr/local/lib/python3.10/dist-packages/sklearn/base.py:493: UserWarning: X does not have valid feature names, but RandomForestClassifier was fitted with feature names\n",
            "  warnings.warn(\n",
            "/usr/local/lib/python3.10/dist-packages/sklearn/base.py:493: UserWarning: X does not have valid feature names, but RandomForestClassifier was fitted with feature names\n",
            "  warnings.warn(\n",
            "/usr/local/lib/python3.10/dist-packages/sklearn/base.py:493: UserWarning: X does not have valid feature names, but RandomForestClassifier was fitted with feature names\n",
            "  warnings.warn(\n",
            "/usr/local/lib/python3.10/dist-packages/sklearn/base.py:493: UserWarning: X does not have valid feature names, but RandomForestClassifier was fitted with feature names\n",
            "  warnings.warn(\n",
            "/usr/local/lib/python3.10/dist-packages/sklearn/base.py:493: UserWarning: X does not have valid feature names, but RandomForestClassifier was fitted with feature names\n",
            "  warnings.warn(\n",
            "/usr/local/lib/python3.10/dist-packages/sklearn/base.py:493: UserWarning: X does not have valid feature names, but RandomForestClassifier was fitted with feature names\n",
            "  warnings.warn(\n"
          ]
        },
        {
          "metadata": {
            "tags": null
          },
          "name": "stdout",
          "output_type": "stream",
          "text": [
            "Received message: 22.44 on topic: room2/temperature2\n",
            "Input vector for model: [[2.190000e+01 2.154000e+01 7.700000e+00 9.928927e+04]]\n",
            "predictin_prob: [[0.69 0.31]]\n",
            "Normal data.\n",
            "Published decision: 'Normal data.' to topic: 'anomaly/detection'\n",
            "Received message: 21.9 on topic: room1/temperature1\n",
            "Input vector for model: [[2.190000e+01 2.154000e+01 7.700000e+00 9.928927e+04]]\n",
            "predictin_prob: [[0.69 0.31]]\n",
            "Normal data.\n",
            "Published decision: 'Normal data.' to topic: 'anomaly/detection'\n",
            "Received message: 11.8 on topic: room1/humidity1\n",
            "Input vector for model: [[2.190000e+01 2.154000e+01 7.800000e+00 9.928927e+04]]\n",
            "predictin_prob: [[0.69 0.31]]\n",
            "Normal data.\n",
            "Published decision: 'Normal data.' to topic: 'anomaly/detection'\n",
            "Received message: 99642.04 on topic: room2/pressure2\n",
            "Input vector for model: [[2.190000e+01 2.154000e+01 7.800000e+00 9.929204e+04]]\n",
            "predictin_prob: [[0.69 0.31]]\n",
            "Normal data.\n",
            "Published decision: 'Normal data.' to topic: 'anomaly/detection'\n"
          ]
        },
        {
          "metadata": {
            "tags": null
          },
          "name": "stderr",
          "output_type": "stream",
          "text": [
            "/usr/local/lib/python3.10/dist-packages/sklearn/base.py:493: UserWarning: X does not have valid feature names, but RandomForestClassifier was fitted with feature names\n",
            "  warnings.warn(\n",
            "/usr/local/lib/python3.10/dist-packages/sklearn/base.py:493: UserWarning: X does not have valid feature names, but RandomForestClassifier was fitted with feature names\n",
            "  warnings.warn(\n",
            "/usr/local/lib/python3.10/dist-packages/sklearn/base.py:493: UserWarning: X does not have valid feature names, but RandomForestClassifier was fitted with feature names\n",
            "  warnings.warn(\n",
            "/usr/local/lib/python3.10/dist-packages/sklearn/base.py:493: UserWarning: X does not have valid feature names, but RandomForestClassifier was fitted with feature names\n",
            "  warnings.warn(\n"
          ]
        },
        {
          "metadata": {
            "tags": null
          },
          "name": "stdout",
          "output_type": "stream",
          "text": [
            "Received message: 22.43 on topic: room2/temperature2\n",
            "Input vector for model: [[2.190000e+01 2.153000e+01 7.800000e+00 9.929204e+04]]\n",
            "predictin_prob: [[0.69 0.31]]\n",
            "Normal data.\n",
            "Published decision: 'Normal data.' to topic: 'anomaly/detection'\n",
            "Received message: 21.9 on topic: room1/temperature1\n",
            "Input vector for model: [[2.190000e+01 2.153000e+01 7.800000e+00 9.929204e+04]]\n",
            "predictin_prob: [[0.69 0.31]]\n",
            "Normal data.\n",
            "Published decision: 'Normal data.' to topic: 'anomaly/detection'\n",
            "Received message: 11.7 on topic: room1/humidity1\n",
            "Input vector for model: [[2.190000e+01 2.153000e+01 7.700000e+00 9.929204e+04]]\n",
            "predictin_prob: [[0.69 0.31]]\n",
            "Normal data.\n",
            "Published decision: 'Normal data.' to topic: 'anomaly/detection'\n",
            "Received message: 99639.27 on topic: room2/pressure2\n",
            "Input vector for model: [[2.190000e+01 2.153000e+01 7.700000e+00 9.928927e+04]]\n",
            "predictin_prob: [[0.69 0.31]]\n",
            "Normal data.\n",
            "Published decision: 'Normal data.' to topic: 'anomaly/detection'\n"
          ]
        },
        {
          "metadata": {
            "tags": null
          },
          "name": "stderr",
          "output_type": "stream",
          "text": [
            "/usr/local/lib/python3.10/dist-packages/sklearn/base.py:493: UserWarning: X does not have valid feature names, but RandomForestClassifier was fitted with feature names\n",
            "  warnings.warn(\n",
            "/usr/local/lib/python3.10/dist-packages/sklearn/base.py:493: UserWarning: X does not have valid feature names, but RandomForestClassifier was fitted with feature names\n",
            "  warnings.warn(\n",
            "/usr/local/lib/python3.10/dist-packages/sklearn/base.py:493: UserWarning: X does not have valid feature names, but RandomForestClassifier was fitted with feature names\n",
            "  warnings.warn(\n",
            "/usr/local/lib/python3.10/dist-packages/sklearn/base.py:493: UserWarning: X does not have valid feature names, but RandomForestClassifier was fitted with feature names\n",
            "  warnings.warn(\n"
          ]
        },
        {
          "metadata": {
            "tags": null
          },
          "name": "stdout",
          "output_type": "stream",
          "text": [
            "Received message: 22.43 on topic: room2/temperature2\n",
            "Input vector for model: [[2.190000e+01 2.153000e+01 7.700000e+00 9.928927e+04]]\n",
            "predictin_prob: [[0.69 0.31]]\n",
            "Normal data.\n",
            "Published decision: 'Normal data.' to topic: 'anomaly/detection'\n",
            "Received message: 21.9 on topic: room1/temperature1\n",
            "Input vector for model: [[2.190000e+01 2.153000e+01 7.700000e+00 9.928927e+04]]\n",
            "predictin_prob: [[0.69 0.31]]\n",
            "Normal data.\n",
            "Published decision: 'Normal data.' to topic: 'anomaly/detection'\n",
            "Received message: 99638.59 on topic: room2/pressure2\n",
            "Input vector for model: [[2.190000e+01 2.153000e+01 7.700000e+00 9.928859e+04]]\n",
            "predictin_prob: [[0.69 0.31]]\n",
            "Normal data.\n",
            "Published decision: 'Normal data.' to topic: 'anomaly/detection'\n",
            "Received message: 11.8 on topic: room1/humidity1\n",
            "Input vector for model: [[2.190000e+01 2.153000e+01 7.800000e+00 9.928859e+04]]\n",
            "predictin_prob: [[0.69 0.31]]\n",
            "Normal data.\n",
            "Published decision: 'Normal data.' to topic: 'anomaly/detection'\n"
          ]
        },
        {
          "metadata": {
            "tags": null
          },
          "name": "stderr",
          "output_type": "stream",
          "text": [
            "/usr/local/lib/python3.10/dist-packages/sklearn/base.py:493: UserWarning: X does not have valid feature names, but RandomForestClassifier was fitted with feature names\n",
            "  warnings.warn(\n",
            "/usr/local/lib/python3.10/dist-packages/sklearn/base.py:493: UserWarning: X does not have valid feature names, but RandomForestClassifier was fitted with feature names\n",
            "  warnings.warn(\n",
            "/usr/local/lib/python3.10/dist-packages/sklearn/base.py:493: UserWarning: X does not have valid feature names, but RandomForestClassifier was fitted with feature names\n",
            "  warnings.warn(\n",
            "/usr/local/lib/python3.10/dist-packages/sklearn/base.py:493: UserWarning: X does not have valid feature names, but RandomForestClassifier was fitted with feature names\n",
            "  warnings.warn(\n"
          ]
        },
        {
          "metadata": {
            "tags": null
          },
          "name": "stdout",
          "output_type": "stream",
          "text": [
            "Received message: 22.43 on topic: room2/temperature2\n",
            "Input vector for model: [[2.190000e+01 2.153000e+01 7.800000e+00 9.928859e+04]]\n",
            "predictin_prob: [[0.69 0.31]]\n",
            "Normal data.\n",
            "Published decision: 'Normal data.' to topic: 'anomaly/detection'\n",
            "Received message: 21.9 on topic: room1/temperature1\n",
            "Input vector for model: [[2.190000e+01 2.153000e+01 7.800000e+00 9.928859e+04]]\n",
            "predictin_prob: [[0.69 0.31]]\n",
            "Normal data.\n",
            "Published decision: 'Normal data.' to topic: 'anomaly/detection'\n",
            "Received message: 99638.59 on topic: room2/pressure2\n",
            "Input vector for model: [[2.190000e+01 2.153000e+01 7.800000e+00 9.928859e+04]]\n",
            "predictin_prob: [[0.69 0.31]]\n",
            "Normal data.\n",
            "Published decision: 'Normal data.' to topic: 'anomaly/detection'\n",
            "Received message: 11.8 on topic: room1/humidity1\n",
            "Input vector for model: [[2.190000e+01 2.153000e+01 7.800000e+00 9.928859e+04]]\n",
            "predictin_prob: [[0.69 0.31]]\n",
            "Normal data.\n",
            "Published decision: 'Normal data.' to topic: 'anomaly/detection'\n"
          ]
        },
        {
          "metadata": {
            "tags": null
          },
          "name": "stderr",
          "output_type": "stream",
          "text": [
            "/usr/local/lib/python3.10/dist-packages/sklearn/base.py:493: UserWarning: X does not have valid feature names, but RandomForestClassifier was fitted with feature names\n",
            "  warnings.warn(\n",
            "/usr/local/lib/python3.10/dist-packages/sklearn/base.py:493: UserWarning: X does not have valid feature names, but RandomForestClassifier was fitted with feature names\n",
            "  warnings.warn(\n",
            "/usr/local/lib/python3.10/dist-packages/sklearn/base.py:493: UserWarning: X does not have valid feature names, but RandomForestClassifier was fitted with feature names\n",
            "  warnings.warn(\n",
            "/usr/local/lib/python3.10/dist-packages/sklearn/base.py:493: UserWarning: X does not have valid feature names, but RandomForestClassifier was fitted with feature names\n",
            "  warnings.warn(\n"
          ]
        },
        {
          "metadata": {
            "tags": null
          },
          "name": "stdout",
          "output_type": "stream",
          "text": [
            "Received message: 22.44 on topic: room2/temperature2\n",
            "Input vector for model: [[2.190000e+01 2.154000e+01 7.800000e+00 9.928859e+04]]\n",
            "predictin_prob: [[0.69 0.31]]\n",
            "Normal data.\n",
            "Published decision: 'Normal data.' to topic: 'anomaly/detection'\n",
            "Received message: 21.9 on topic: room1/temperature1\n",
            "Input vector for model: [[2.190000e+01 2.154000e+01 7.800000e+00 9.928859e+04]]\n",
            "predictin_prob: [[0.69 0.31]]\n",
            "Normal data.\n",
            "Published decision: 'Normal data.' to topic: 'anomaly/detection'\n",
            "Received message: 11.8 on topic: room1/humidity1\n",
            "Input vector for model: [[2.190000e+01 2.154000e+01 7.800000e+00 9.928859e+04]]\n",
            "predictin_prob: [[0.69 0.31]]\n",
            "Normal data.\n",
            "Published decision: 'Normal data.' to topic: 'anomaly/detection'\n",
            "Received message: 99638.69 on topic: room2/pressure2\n",
            "Input vector for model: [[2.190000e+01 2.154000e+01 7.800000e+00 9.928869e+04]]\n",
            "predictin_prob: [[0.69 0.31]]\n",
            "Normal data.\n",
            "Published decision: 'Normal data.' to topic: 'anomaly/detection'\n"
          ]
        },
        {
          "metadata": {
            "tags": null
          },
          "name": "stderr",
          "output_type": "stream",
          "text": [
            "/usr/local/lib/python3.10/dist-packages/sklearn/base.py:493: UserWarning: X does not have valid feature names, but RandomForestClassifier was fitted with feature names\n",
            "  warnings.warn(\n",
            "/usr/local/lib/python3.10/dist-packages/sklearn/base.py:493: UserWarning: X does not have valid feature names, but RandomForestClassifier was fitted with feature names\n",
            "  warnings.warn(\n",
            "/usr/local/lib/python3.10/dist-packages/sklearn/base.py:493: UserWarning: X does not have valid feature names, but RandomForestClassifier was fitted with feature names\n",
            "  warnings.warn(\n",
            "/usr/local/lib/python3.10/dist-packages/sklearn/base.py:493: UserWarning: X does not have valid feature names, but RandomForestClassifier was fitted with feature names\n",
            "  warnings.warn(\n"
          ]
        },
        {
          "metadata": {
            "tags": null
          },
          "name": "stdout",
          "output_type": "stream",
          "text": [
            "Received message: 22.45 on topic: room2/temperature2\n",
            "Input vector for model: [[2.190000e+01 2.155000e+01 7.800000e+00 9.928869e+04]]\n",
            "predictin_prob: [[0.69 0.31]]\n",
            "Normal data.\n",
            "Published decision: 'Normal data.' to topic: 'anomaly/detection'\n",
            "Received message: 11.8 on topic: room1/humidity1\n",
            "Input vector for model: [[2.190000e+01 2.155000e+01 7.800000e+00 9.928869e+04]]\n",
            "predictin_prob: [[0.69 0.31]]\n",
            "Normal data.\n",
            "Published decision: 'Normal data.' to topic: 'anomaly/detection'\n",
            "Received message: 99640.19 on topic: room2/pressure2\n",
            "Input vector for model: [[2.190000e+01 2.155000e+01 7.800000e+00 9.929019e+04]]\n",
            "predictin_prob: [[0.69 0.31]]\n",
            "Normal data.\n",
            "Published decision: 'Normal data.' to topic: 'anomaly/detection'\n",
            "Received message: 21.9 on topic: room1/temperature1\n",
            "Input vector for model: [[2.190000e+01 2.155000e+01 7.800000e+00 9.929019e+04]]\n",
            "predictin_prob: [[0.69 0.31]]\n",
            "Normal data.\n",
            "Published decision: 'Normal data.' to topic: 'anomaly/detection'\n"
          ]
        },
        {
          "metadata": {
            "tags": null
          },
          "name": "stderr",
          "output_type": "stream",
          "text": [
            "/usr/local/lib/python3.10/dist-packages/sklearn/base.py:493: UserWarning: X does not have valid feature names, but RandomForestClassifier was fitted with feature names\n",
            "  warnings.warn(\n",
            "/usr/local/lib/python3.10/dist-packages/sklearn/base.py:493: UserWarning: X does not have valid feature names, but RandomForestClassifier was fitted with feature names\n",
            "  warnings.warn(\n",
            "/usr/local/lib/python3.10/dist-packages/sklearn/base.py:493: UserWarning: X does not have valid feature names, but RandomForestClassifier was fitted with feature names\n",
            "  warnings.warn(\n",
            "/usr/local/lib/python3.10/dist-packages/sklearn/base.py:493: UserWarning: X does not have valid feature names, but RandomForestClassifier was fitted with feature names\n",
            "  warnings.warn(\n"
          ]
        },
        {
          "metadata": {
            "tags": null
          },
          "name": "stdout",
          "output_type": "stream",
          "text": [
            "Received message: 21.9 on topic: room1/temperature1\n",
            "Input vector for model: [[2.190000e+01 2.155000e+01 7.800000e+00 9.929019e+04]]\n",
            "predictin_prob: [[0.69 0.31]]\n",
            "Normal data.\n",
            "Published decision: 'Normal data.' to topic: 'anomaly/detection'\n",
            "Received message: 22.45 on topic: room2/temperature2\n",
            "Input vector for model: [[2.190000e+01 2.155000e+01 7.800000e+00 9.929019e+04]]\n",
            "predictin_prob: [[0.69 0.31]]\n",
            "Normal data.\n",
            "Published decision: 'Normal data.' to topic: 'anomaly/detection'\n",
            "Received message: 11.8 on topic: room1/humidity1\n",
            "Input vector for model: [[2.190000e+01 2.155000e+01 7.800000e+00 9.929019e+04]]\n",
            "predictin_prob: [[0.69 0.31]]\n",
            "Normal data.\n",
            "Published decision: 'Normal data.' to topic: 'anomaly/detection'\n",
            "Received message: 99638.92 on topic: room2/pressure2\n",
            "Input vector for model: [[2.190000e+01 2.155000e+01 7.800000e+00 9.928892e+04]]\n",
            "predictin_prob: [[0.69 0.31]]\n",
            "Normal data.\n",
            "Published decision: 'Normal data.' to topic: 'anomaly/detection'\n"
          ]
        },
        {
          "metadata": {
            "tags": null
          },
          "name": "stderr",
          "output_type": "stream",
          "text": [
            "/usr/local/lib/python3.10/dist-packages/sklearn/base.py:493: UserWarning: X does not have valid feature names, but RandomForestClassifier was fitted with feature names\n",
            "  warnings.warn(\n",
            "/usr/local/lib/python3.10/dist-packages/sklearn/base.py:493: UserWarning: X does not have valid feature names, but RandomForestClassifier was fitted with feature names\n",
            "  warnings.warn(\n",
            "/usr/local/lib/python3.10/dist-packages/sklearn/base.py:493: UserWarning: X does not have valid feature names, but RandomForestClassifier was fitted with feature names\n",
            "  warnings.warn(\n",
            "/usr/local/lib/python3.10/dist-packages/sklearn/base.py:493: UserWarning: X does not have valid feature names, but RandomForestClassifier was fitted with feature names\n",
            "  warnings.warn(\n"
          ]
        },
        {
          "metadata": {
            "tags": null
          },
          "name": "stdout",
          "output_type": "stream",
          "text": [
            "Received message: 22.46 on topic: room2/temperature2\n",
            "Input vector for model: [[2.190000e+01 2.156000e+01 7.800000e+00 9.928892e+04]]\n",
            "predictin_prob: [[0.69 0.31]]\n",
            "Normal data.\n",
            "Published decision: 'Normal data.' to topic: 'anomaly/detection'\n",
            "Received message: 21.9 on topic: room1/temperature1\n",
            "Input vector for model: [[2.190000e+01 2.156000e+01 7.800000e+00 9.928892e+04]]\n",
            "predictin_prob: [[0.69 0.31]]\n",
            "Normal data.\n",
            "Published decision: 'Normal data.' to topic: 'anomaly/detection'\n",
            "Received message: 11.8 on topic: room1/humidity1\n",
            "Input vector for model: [[2.190000e+01 2.156000e+01 7.800000e+00 9.928892e+04]]\n",
            "predictin_prob: [[0.69 0.31]]\n",
            "Normal data.\n",
            "Published decision: 'Normal data.' to topic: 'anomaly/detection'\n",
            "Received message: 99637.68 on topic: room2/pressure2\n",
            "Input vector for model: [[2.190000e+01 2.156000e+01 7.800000e+00 9.928768e+04]]\n",
            "predictin_prob: [[0.69 0.31]]\n",
            "Normal data.\n",
            "Published decision: 'Normal data.' to topic: 'anomaly/detection'\n"
          ]
        },
        {
          "metadata": {
            "tags": null
          },
          "name": "stderr",
          "output_type": "stream",
          "text": [
            "/usr/local/lib/python3.10/dist-packages/sklearn/base.py:493: UserWarning: X does not have valid feature names, but RandomForestClassifier was fitted with feature names\n",
            "  warnings.warn(\n",
            "/usr/local/lib/python3.10/dist-packages/sklearn/base.py:493: UserWarning: X does not have valid feature names, but RandomForestClassifier was fitted with feature names\n",
            "  warnings.warn(\n",
            "/usr/local/lib/python3.10/dist-packages/sklearn/base.py:493: UserWarning: X does not have valid feature names, but RandomForestClassifier was fitted with feature names\n",
            "  warnings.warn(\n",
            "/usr/local/lib/python3.10/dist-packages/sklearn/base.py:493: UserWarning: X does not have valid feature names, but RandomForestClassifier was fitted with feature names\n",
            "  warnings.warn(\n"
          ]
        },
        {
          "metadata": {
            "tags": null
          },
          "name": "stdout",
          "output_type": "stream",
          "text": [
            "Received message: 22.46 on topic: room2/temperature2\n",
            "Input vector for model: [[2.190000e+01 2.156000e+01 7.800000e+00 9.928768e+04]]\n",
            "predictin_prob: [[0.69 0.31]]\n",
            "Normal data.\n",
            "Published decision: 'Normal data.' to topic: 'anomaly/detection'\n",
            "Received message: 22.0 on topic: room1/temperature1\n",
            "Input vector for model: [[2.200000e+01 2.156000e+01 7.800000e+00 9.928768e+04]]\n",
            "predictin_prob: [[0.69 0.31]]\n",
            "Normal data.\n",
            "Published decision: 'Normal data.' to topic: 'anomaly/detection'\n",
            "Received message: 22.0 on topic: room1/temperature1\n",
            "Input vector for model: [[2.200000e+01 2.156000e+01 7.800000e+00 9.928768e+04]]\n",
            "predictin_prob: [[0.69 0.31]]\n",
            "Normal data.\n",
            "Published decision: 'Normal data.' to topic: 'anomaly/detection'\n",
            "Received message: 11.7 on topic: room1/humidity1\n",
            "Input vector for model: [[2.200000e+01 2.156000e+01 7.700000e+00 9.928768e+04]]\n",
            "predictin_prob: [[0.69 0.31]]\n",
            "Normal data.\n",
            "Published decision: 'Normal data.' to topic: 'anomaly/detection'\n",
            "Received message: 99638.35 on topic: room2/pressure2\n",
            "Input vector for model: [[2.200000e+01 2.156000e+01 7.700000e+00 9.928835e+04]]\n",
            "predictin_prob: [[0.69 0.31]]\n",
            "Normal data.\n",
            "Published decision: 'Normal data.' to topic: 'anomaly/detection'\n"
          ]
        },
        {
          "metadata": {
            "tags": null
          },
          "name": "stderr",
          "output_type": "stream",
          "text": [
            "/usr/local/lib/python3.10/dist-packages/sklearn/base.py:493: UserWarning: X does not have valid feature names, but RandomForestClassifier was fitted with feature names\n",
            "  warnings.warn(\n",
            "/usr/local/lib/python3.10/dist-packages/sklearn/base.py:493: UserWarning: X does not have valid feature names, but RandomForestClassifier was fitted with feature names\n",
            "  warnings.warn(\n",
            "/usr/local/lib/python3.10/dist-packages/sklearn/base.py:493: UserWarning: X does not have valid feature names, but RandomForestClassifier was fitted with feature names\n",
            "  warnings.warn(\n",
            "/usr/local/lib/python3.10/dist-packages/sklearn/base.py:493: UserWarning: X does not have valid feature names, but RandomForestClassifier was fitted with feature names\n",
            "  warnings.warn(\n",
            "/usr/local/lib/python3.10/dist-packages/sklearn/base.py:493: UserWarning: X does not have valid feature names, but RandomForestClassifier was fitted with feature names\n",
            "  warnings.warn(\n"
          ]
        },
        {
          "metadata": {
            "tags": null
          },
          "name": "stdout",
          "output_type": "stream",
          "text": [
            "Received message: 22.46 on topic: room2/temperature2\n",
            "Input vector for model: [[2.200000e+01 2.156000e+01 7.700000e+00 9.928835e+04]]\n",
            "predictin_prob: [[0.69 0.31]]\n",
            "Normal data.\n",
            "Published decision: 'Normal data.' to topic: 'anomaly/detection'\n",
            "Received message: 22.47 on topic: room2/temperature2\n",
            "Input vector for model: [[2.200000e+01 2.157000e+01 7.700000e+00 9.928835e+04]]\n",
            "predictin_prob: [[0.69 0.31]]\n",
            "Normal data.\n",
            "Published decision: 'Normal data.' to topic: 'anomaly/detection'\n",
            "Received message: 22.0 on topic: room1/temperature1\n",
            "Input vector for model: [[2.200000e+01 2.157000e+01 7.700000e+00 9.928835e+04]]\n",
            "predictin_prob: [[0.69 0.31]]\n",
            "Normal data.\n",
            "Published decision: 'Normal data.' to topic: 'anomaly/detection'\n",
            "Received message: 12.0 on topic: room1/humidity1\n",
            "Input vector for model: [[2.200000e+01 2.157000e+01 8.000000e+00 9.928835e+04]]\n",
            "predictin_prob: [[0.69 0.31]]\n",
            "Normal data.\n",
            "Published decision: 'Normal data.' to topic: 'anomaly/detection'\n",
            "Received message: 99637.77 on topic: room2/pressure2\n",
            "Input vector for model: [[2.200000e+01 2.157000e+01 8.000000e+00 9.928777e+04]]\n",
            "predictin_prob: [[0.69 0.31]]\n",
            "Normal data.\n",
            "Published decision: 'Normal data.' to topic: 'anomaly/detection'\n",
            "Received message: 12.7 on topic: room1/humidity1\n",
            "Input vector for model: [[2.200000e+01 2.157000e+01 8.700000e+00 9.928777e+04]]\n",
            "predictin_prob: [[0.69 0.31]]\n",
            "Normal data.\n",
            "Published decision: 'Normal data.' to topic: 'anomaly/detection'\n",
            "Received message: 22.53 on topic: room2/temperature2\n",
            "Input vector for model: [[2.200000e+01 2.163000e+01 8.700000e+00 9.928777e+04]]\n",
            "predictin_prob: [[0.69 0.31]]\n",
            "Normal data.\n",
            "Published decision: 'Normal data.' to topic: 'anomaly/detection'\n",
            "Received message: 22.0 on topic: room1/temperature1\n",
            "Input vector for model: [[2.200000e+01 2.163000e+01 8.700000e+00 9.928777e+04]]\n",
            "predictin_prob: [[0.69 0.31]]\n",
            "Normal data.\n",
            "Published decision: 'Normal data.' to topic: 'anomaly/detection'\n",
            "Received message: 99637.27 on topic: room2/pressure2\n",
            "Input vector for model: [[2.200000e+01 2.163000e+01 8.700000e+00 9.928727e+04]]\n",
            "predictin_prob: [[0.69 0.31]]\n",
            "Normal data.\n",
            "Published decision: 'Normal data.' to topic: 'anomaly/detection'\n",
            "Received message: 99638.97 on topic: room2/pressure2\n",
            "Input vector for model: [[2.200000e+01 2.163000e+01 8.700000e+00 9.928897e+04]]\n",
            "predictin_prob: [[0.69 0.31]]\n",
            "Normal data.\n",
            "Published decision: 'Normal data.' to topic: 'anomaly/detection'\n",
            "Received message: 13.8 on topic: room1/humidity1\n",
            "Input vector for model: [[2.200000e+01 2.163000e+01 9.800000e+00 9.928897e+04]]\n",
            "predictin_prob: [[0.69 0.31]]\n",
            "Normal data.\n",
            "Published decision: 'Normal data.' to topic: 'anomaly/detection'\n"
          ]
        },
        {
          "metadata": {
            "tags": null
          },
          "name": "stderr",
          "output_type": "stream",
          "text": [
            "/usr/local/lib/python3.10/dist-packages/sklearn/base.py:493: UserWarning: X does not have valid feature names, but RandomForestClassifier was fitted with feature names\n",
            "  warnings.warn(\n",
            "/usr/local/lib/python3.10/dist-packages/sklearn/base.py:493: UserWarning: X does not have valid feature names, but RandomForestClassifier was fitted with feature names\n",
            "  warnings.warn(\n",
            "/usr/local/lib/python3.10/dist-packages/sklearn/base.py:493: UserWarning: X does not have valid feature names, but RandomForestClassifier was fitted with feature names\n",
            "  warnings.warn(\n",
            "/usr/local/lib/python3.10/dist-packages/sklearn/base.py:493: UserWarning: X does not have valid feature names, but RandomForestClassifier was fitted with feature names\n",
            "  warnings.warn(\n",
            "/usr/local/lib/python3.10/dist-packages/sklearn/base.py:493: UserWarning: X does not have valid feature names, but RandomForestClassifier was fitted with feature names\n",
            "  warnings.warn(\n",
            "/usr/local/lib/python3.10/dist-packages/sklearn/base.py:493: UserWarning: X does not have valid feature names, but RandomForestClassifier was fitted with feature names\n",
            "  warnings.warn(\n",
            "/usr/local/lib/python3.10/dist-packages/sklearn/base.py:493: UserWarning: X does not have valid feature names, but RandomForestClassifier was fitted with feature names\n",
            "  warnings.warn(\n",
            "/usr/local/lib/python3.10/dist-packages/sklearn/base.py:493: UserWarning: X does not have valid feature names, but RandomForestClassifier was fitted with feature names\n",
            "  warnings.warn(\n",
            "/usr/local/lib/python3.10/dist-packages/sklearn/base.py:493: UserWarning: X does not have valid feature names, but RandomForestClassifier was fitted with feature names\n",
            "  warnings.warn(\n",
            "/usr/local/lib/python3.10/dist-packages/sklearn/base.py:493: UserWarning: X does not have valid feature names, but RandomForestClassifier was fitted with feature names\n",
            "  warnings.warn(\n",
            "/usr/local/lib/python3.10/dist-packages/sklearn/base.py:493: UserWarning: X does not have valid feature names, but RandomForestClassifier was fitted with feature names\n",
            "  warnings.warn(\n"
          ]
        },
        {
          "metadata": {
            "tags": null
          },
          "name": "stdout",
          "output_type": "stream",
          "text": [
            "Received message: 22.61 on topic: room2/temperature2\n",
            "Input vector for model: [[2.200000e+01 2.171000e+01 9.800000e+00 9.928897e+04]]\n",
            "predictin_prob: [[0.69 0.31]]\n",
            "Normal data.\n",
            "Published decision: 'Normal data.' to topic: 'anomaly/detection'\n",
            "Received message: 22.0 on topic: room1/temperature1\n",
            "Input vector for model: [[2.200000e+01 2.171000e+01 9.800000e+00 9.928897e+04]]\n",
            "predictin_prob: [[0.69 0.31]]\n",
            "Normal data.\n",
            "Published decision: 'Normal data.' to topic: 'anomaly/detection'\n",
            "Received message: 15.8 on topic: room1/humidity1\n",
            "Input vector for model: [[2.200000e+01 2.171000e+01 1.180000e+01 9.928897e+04]]\n",
            "predictin_prob: [[0.69 0.31]]\n",
            "Normal data.\n",
            "Published decision: 'Normal data.' to topic: 'anomaly/detection'\n",
            "Received message: 99633.56 on topic: room2/pressure2\n",
            "Input vector for model: [[2.200000e+01 2.171000e+01 1.180000e+01 9.928356e+04]]\n",
            "predictin_prob: [[0.69 0.31]]\n",
            "Normal data.\n",
            "Published decision: 'Normal data.' to topic: 'anomaly/detection'\n"
          ]
        },
        {
          "metadata": {
            "tags": null
          },
          "name": "stderr",
          "output_type": "stream",
          "text": [
            "/usr/local/lib/python3.10/dist-packages/sklearn/base.py:493: UserWarning: X does not have valid feature names, but RandomForestClassifier was fitted with feature names\n",
            "  warnings.warn(\n",
            "/usr/local/lib/python3.10/dist-packages/sklearn/base.py:493: UserWarning: X does not have valid feature names, but RandomForestClassifier was fitted with feature names\n",
            "  warnings.warn(\n",
            "/usr/local/lib/python3.10/dist-packages/sklearn/base.py:493: UserWarning: X does not have valid feature names, but RandomForestClassifier was fitted with feature names\n",
            "  warnings.warn(\n",
            "/usr/local/lib/python3.10/dist-packages/sklearn/base.py:493: UserWarning: X does not have valid feature names, but RandomForestClassifier was fitted with feature names\n",
            "  warnings.warn(\n"
          ]
        },
        {
          "metadata": {
            "tags": null
          },
          "name": "stdout",
          "output_type": "stream",
          "text": [
            "Received message: 24.2 on topic: room2/temperature2\n",
            "Input vector for model: [[2.200000e+01 2.330000e+01 1.180000e+01 9.928356e+04]]\n",
            "predictin_prob: [[0.33 0.67]]\n",
            "Anomaly detected!\n",
            "Published decision: 'Anomaly detected!' to topic: 'anomaly/detection'\n",
            "Received message: 22.0 on topic: room1/temperature1\n",
            "Input vector for model: [[2.200000e+01 2.330000e+01 1.180000e+01 9.928356e+04]]\n",
            "predictin_prob: [[0.33 0.67]]\n",
            "Anomaly detected!\n",
            "Published decision: 'Anomaly detected!' to topic: 'anomaly/detection'\n",
            "Received message: 99645.15 on topic: room2/pressure2\n",
            "Input vector for model: [[2.200000e+01 2.330000e+01 1.180000e+01 9.929515e+04]]\n",
            "predictin_prob: [[0.33 0.67]]\n",
            "Anomaly detected!\n",
            "Published decision: 'Anomaly detected!' to topic: 'anomaly/detection'\n",
            "Received message: 24.0 on topic: room1/humidity1\n",
            "Input vector for model: [[2.200000e+01 2.330000e+01 2.000000e+01 9.929515e+04]]\n",
            "predictin_prob: [[0.33 0.67]]\n",
            "Anomaly detected!\n",
            "Published decision: 'Anomaly detected!' to topic: 'anomaly/detection'\n"
          ]
        },
        {
          "metadata": {
            "tags": null
          },
          "name": "stderr",
          "output_type": "stream",
          "text": [
            "/usr/local/lib/python3.10/dist-packages/sklearn/base.py:493: UserWarning: X does not have valid feature names, but RandomForestClassifier was fitted with feature names\n",
            "  warnings.warn(\n",
            "/usr/local/lib/python3.10/dist-packages/sklearn/base.py:493: UserWarning: X does not have valid feature names, but RandomForestClassifier was fitted with feature names\n",
            "  warnings.warn(\n",
            "/usr/local/lib/python3.10/dist-packages/sklearn/base.py:493: UserWarning: X does not have valid feature names, but RandomForestClassifier was fitted with feature names\n",
            "  warnings.warn(\n",
            "/usr/local/lib/python3.10/dist-packages/sklearn/base.py:493: UserWarning: X does not have valid feature names, but RandomForestClassifier was fitted with feature names\n",
            "  warnings.warn(\n"
          ]
        },
        {
          "metadata": {
            "tags": null
          },
          "name": "stdout",
          "output_type": "stream",
          "text": [
            "Received message: 25.84 on topic: room2/temperature2\n",
            "Input vector for model: [[2.200000e+01 2.494000e+01 2.000000e+01 9.929515e+04]]\n",
            "predictin_prob: [[0.32 0.68]]\n",
            "Anomaly detected!\n",
            "Published decision: 'Anomaly detected!' to topic: 'anomaly/detection'\n",
            "Received message: 22.3 on topic: room1/temperature1\n",
            "Input vector for model: [[2.230000e+01 2.494000e+01 2.000000e+01 9.929515e+04]]\n",
            "predictin_prob: [[0.32 0.68]]\n",
            "Anomaly detected!\n",
            "Published decision: 'Anomaly detected!' to topic: 'anomaly/detection'\n",
            "Received message: 33.7 on topic: room1/humidity1\n",
            "Input vector for model: [[2.230000e+01 2.494000e+01 2.970000e+01 9.929515e+04]]\n",
            "predictin_prob: [[0.32 0.68]]\n",
            "Anomaly detected!\n",
            "Published decision: 'Anomaly detected!' to topic: 'anomaly/detection'\n",
            "Received message: 99636.17 on topic: room2/pressure2\n",
            "Input vector for model: [[2.230000e+01 2.494000e+01 2.970000e+01 9.928617e+04]]\n",
            "predictin_prob: [[0.32 0.68]]\n",
            "Anomaly detected!\n",
            "Published decision: 'Anomaly detected!' to topic: 'anomaly/detection'\n"
          ]
        },
        {
          "metadata": {
            "tags": null
          },
          "name": "stderr",
          "output_type": "stream",
          "text": [
            "/usr/local/lib/python3.10/dist-packages/sklearn/base.py:493: UserWarning: X does not have valid feature names, but RandomForestClassifier was fitted with feature names\n",
            "  warnings.warn(\n",
            "/usr/local/lib/python3.10/dist-packages/sklearn/base.py:493: UserWarning: X does not have valid feature names, but RandomForestClassifier was fitted with feature names\n",
            "  warnings.warn(\n",
            "/usr/local/lib/python3.10/dist-packages/sklearn/base.py:493: UserWarning: X does not have valid feature names, but RandomForestClassifier was fitted with feature names\n",
            "  warnings.warn(\n",
            "/usr/local/lib/python3.10/dist-packages/sklearn/base.py:493: UserWarning: X does not have valid feature names, but RandomForestClassifier was fitted with feature names\n",
            "  warnings.warn(\n"
          ]
        },
        {
          "metadata": {
            "tags": null
          },
          "name": "stdout",
          "output_type": "stream",
          "text": [
            "Received message: 27.29 on topic: room2/temperature2\n",
            "Input vector for model: [[2.230000e+01 2.639000e+01 2.970000e+01 9.928617e+04]]\n",
            "predictin_prob: [[0.3 0.7]]\n",
            "Anomaly detected!\n",
            "Published decision: 'Anomaly detected!' to topic: 'anomaly/detection'\n",
            "Received message: 22.5 on topic: room1/temperature1\n",
            "Input vector for model: [[2.250000e+01 2.639000e+01 2.970000e+01 9.928617e+04]]\n",
            "predictin_prob: [[0.28 0.72]]\n",
            "Anomaly detected!\n",
            "Published decision: 'Anomaly detected!' to topic: 'anomaly/detection'\n",
            "Received message: 99634.59 on topic: room2/pressure2\n",
            "Input vector for model: [[2.250000e+01 2.639000e+01 2.970000e+01 9.928459e+04]]\n",
            "predictin_prob: [[0.28 0.72]]\n",
            "Anomaly detected!\n",
            "Published decision: 'Anomaly detected!' to topic: 'anomaly/detection'\n",
            "Received message: 44.1 on topic: room1/humidity1\n",
            "Input vector for model: [[2.250000e+01 2.639000e+01 4.010000e+01 9.928459e+04]]\n",
            "predictin_prob: [[0.28 0.72]]\n",
            "Anomaly detected!\n",
            "Published decision: 'Anomaly detected!' to topic: 'anomaly/detection'\n"
          ]
        },
        {
          "metadata": {
            "tags": null
          },
          "name": "stderr",
          "output_type": "stream",
          "text": [
            "/usr/local/lib/python3.10/dist-packages/sklearn/base.py:493: UserWarning: X does not have valid feature names, but RandomForestClassifier was fitted with feature names\n",
            "  warnings.warn(\n",
            "/usr/local/lib/python3.10/dist-packages/sklearn/base.py:493: UserWarning: X does not have valid feature names, but RandomForestClassifier was fitted with feature names\n",
            "  warnings.warn(\n",
            "/usr/local/lib/python3.10/dist-packages/sklearn/base.py:493: UserWarning: X does not have valid feature names, but RandomForestClassifier was fitted with feature names\n",
            "  warnings.warn(\n",
            "/usr/local/lib/python3.10/dist-packages/sklearn/base.py:493: UserWarning: X does not have valid feature names, but RandomForestClassifier was fitted with feature names\n",
            "  warnings.warn(\n"
          ]
        },
        {
          "metadata": {
            "tags": null
          },
          "name": "stdout",
          "output_type": "stream",
          "text": [
            "Received message: 27.96 on topic: room2/temperature2\n",
            "Input vector for model: [[2.250000e+01 2.706000e+01 4.010000e+01 9.928459e+04]]\n",
            "predictin_prob: [[0.28 0.72]]\n",
            "Anomaly detected!\n",
            "Published decision: 'Anomaly detected!' to topic: 'anomaly/detection'\n",
            "Received message: 52.9 on topic: room1/humidity1\n",
            "Input vector for model: [[2.250000e+01 2.706000e+01 4.890000e+01 9.928459e+04]]\n",
            "predictin_prob: [[0.28 0.72]]\n",
            "Anomaly detected!\n",
            "Published decision: 'Anomaly detected!' to topic: 'anomaly/detection'\n",
            "Received message: 99636.03 on topic: room2/pressure2\n",
            "Input vector for model: [[2.250000e+01 2.706000e+01 4.890000e+01 9.928603e+04]]\n",
            "predictin_prob: [[0.28 0.72]]\n",
            "Anomaly detected!\n",
            "Published decision: 'Anomaly detected!' to topic: 'anomaly/detection'\n",
            "Received message: 22.9 on topic: room1/temperature1\n",
            "Input vector for model: [[2.290000e+01 2.706000e+01 4.890000e+01 9.928603e+04]]\n",
            "predictin_prob: [[0.28 0.72]]\n",
            "Anomaly detected!\n",
            "Published decision: 'Anomaly detected!' to topic: 'anomaly/detection'\n"
          ]
        },
        {
          "metadata": {
            "tags": null
          },
          "name": "stderr",
          "output_type": "stream",
          "text": [
            "/usr/local/lib/python3.10/dist-packages/sklearn/base.py:493: UserWarning: X does not have valid feature names, but RandomForestClassifier was fitted with feature names\n",
            "  warnings.warn(\n",
            "/usr/local/lib/python3.10/dist-packages/sklearn/base.py:493: UserWarning: X does not have valid feature names, but RandomForestClassifier was fitted with feature names\n",
            "  warnings.warn(\n",
            "/usr/local/lib/python3.10/dist-packages/sklearn/base.py:493: UserWarning: X does not have valid feature names, but RandomForestClassifier was fitted with feature names\n",
            "  warnings.warn(\n",
            "/usr/local/lib/python3.10/dist-packages/sklearn/base.py:493: UserWarning: X does not have valid feature names, but RandomForestClassifier was fitted with feature names\n",
            "  warnings.warn(\n"
          ]
        },
        {
          "metadata": {
            "tags": null
          },
          "name": "stdout",
          "output_type": "stream",
          "text": [
            "Received message: 28.57 on topic: room2/temperature2\n",
            "Input vector for model: [[2.290000e+01 2.767000e+01 4.890000e+01 9.928603e+04]]\n",
            "predictin_prob: [[0.28 0.72]]\n",
            "Anomaly detected!\n",
            "Published decision: 'Anomaly detected!' to topic: 'anomaly/detection'\n",
            "Received message: 23.0 on topic: room1/temperature1\n",
            "Input vector for model: [[2.300000e+01 2.767000e+01 4.890000e+01 9.928603e+04]]\n",
            "predictin_prob: [[0.28 0.72]]\n",
            "Anomaly detected!\n",
            "Published decision: 'Anomaly detected!' to topic: 'anomaly/detection'\n",
            "Received message: 58.7 on topic: room1/humidity1\n",
            "Input vector for model: [[2.300000e+01 2.767000e+01 5.470000e+01 9.928603e+04]]\n",
            "predictin_prob: [[0.02 0.98]]\n",
            "Anomaly detected!\n",
            "Published decision: 'Anomaly detected!' to topic: 'anomaly/detection'\n",
            "Received message: 99618.73 on topic: room2/pressure2\n",
            "Input vector for model: [[2.300000e+01 2.767000e+01 5.470000e+01 9.926873e+04]]\n",
            "predictin_prob: [[0.02 0.98]]\n",
            "Anomaly detected!\n",
            "Published decision: 'Anomaly detected!' to topic: 'anomaly/detection'\n"
          ]
        },
        {
          "metadata": {
            "tags": null
          },
          "name": "stderr",
          "output_type": "stream",
          "text": [
            "/usr/local/lib/python3.10/dist-packages/sklearn/base.py:493: UserWarning: X does not have valid feature names, but RandomForestClassifier was fitted with feature names\n",
            "  warnings.warn(\n",
            "/usr/local/lib/python3.10/dist-packages/sklearn/base.py:493: UserWarning: X does not have valid feature names, but RandomForestClassifier was fitted with feature names\n",
            "  warnings.warn(\n",
            "/usr/local/lib/python3.10/dist-packages/sklearn/base.py:493: UserWarning: X does not have valid feature names, but RandomForestClassifier was fitted with feature names\n",
            "  warnings.warn(\n",
            "/usr/local/lib/python3.10/dist-packages/sklearn/base.py:493: UserWarning: X does not have valid feature names, but RandomForestClassifier was fitted with feature names\n",
            "  warnings.warn(\n"
          ]
        },
        {
          "metadata": {
            "tags": null
          },
          "name": "stdout",
          "output_type": "stream",
          "text": [
            "Received message: 28.81 on topic: room2/temperature2\n",
            "Input vector for model: [[2.300000e+01 2.791000e+01 5.470000e+01 9.926873e+04]]\n",
            "predictin_prob: [[0.02 0.98]]\n",
            "Anomaly detected!\n",
            "Published decision: 'Anomaly detected!' to topic: 'anomaly/detection'\n",
            "Received message: 23.0 on topic: room1/temperature1\n",
            "Input vector for model: [[2.300000e+01 2.791000e+01 5.470000e+01 9.926873e+04]]\n",
            "predictin_prob: [[0.02 0.98]]\n",
            "Anomaly detected!\n",
            "Published decision: 'Anomaly detected!' to topic: 'anomaly/detection'\n",
            "Received message: 63.3 on topic: room1/humidity1\n",
            "Input vector for model: [[2.300000e+01 2.791000e+01 5.930000e+01 9.926873e+04]]\n",
            "predictin_prob: [[0.02 0.98]]\n",
            "Anomaly detected!\n",
            "Published decision: 'Anomaly detected!' to topic: 'anomaly/detection'\n",
            "Received message: 99639.89 on topic: room2/pressure2\n",
            "Input vector for model: [[2.300000e+01 2.791000e+01 5.930000e+01 9.928989e+04]]\n",
            "predictin_prob: [[0.02 0.98]]\n",
            "Anomaly detected!\n",
            "Published decision: 'Anomaly detected!' to topic: 'anomaly/detection'\n"
          ]
        },
        {
          "metadata": {
            "tags": null
          },
          "name": "stderr",
          "output_type": "stream",
          "text": [
            "/usr/local/lib/python3.10/dist-packages/sklearn/base.py:493: UserWarning: X does not have valid feature names, but RandomForestClassifier was fitted with feature names\n",
            "  warnings.warn(\n",
            "/usr/local/lib/python3.10/dist-packages/sklearn/base.py:493: UserWarning: X does not have valid feature names, but RandomForestClassifier was fitted with feature names\n",
            "  warnings.warn(\n",
            "/usr/local/lib/python3.10/dist-packages/sklearn/base.py:493: UserWarning: X does not have valid feature names, but RandomForestClassifier was fitted with feature names\n",
            "  warnings.warn(\n",
            "/usr/local/lib/python3.10/dist-packages/sklearn/base.py:493: UserWarning: X does not have valid feature names, but RandomForestClassifier was fitted with feature names\n",
            "  warnings.warn(\n"
          ]
        },
        {
          "metadata": {
            "tags": null
          },
          "name": "stdout",
          "output_type": "stream",
          "text": [
            "Received message: 28.9 on topic: room2/temperature2\n",
            "Input vector for model: [[2.300000e+01 2.800000e+01 5.930000e+01 9.928989e+04]]\n",
            "predictin_prob: [[0.02 0.98]]\n",
            "Anomaly detected!\n",
            "Published decision: 'Anomaly detected!' to topic: 'anomaly/detection'\n",
            "Received message: 23.2 on topic: room1/temperature1\n",
            "Input vector for model: [[2.320000e+01 2.800000e+01 5.930000e+01 9.928989e+04]]\n",
            "predictin_prob: [[0.02 0.98]]\n",
            "Anomaly detected!\n",
            "Published decision: 'Anomaly detected!' to topic: 'anomaly/detection'\n",
            "Received message: 67.7 on topic: room1/humidity1\n",
            "Input vector for model: [[2.320000e+01 2.800000e+01 6.370000e+01 9.928989e+04]]\n",
            "predictin_prob: [[0.02 0.98]]\n",
            "Anomaly detected!\n",
            "Published decision: 'Anomaly detected!' to topic: 'anomaly/detection'\n",
            "Received message: 99643.21 on topic: room2/pressure2\n",
            "Input vector for model: [[2.320000e+01 2.800000e+01 6.370000e+01 9.929321e+04]]\n",
            "predictin_prob: [[0.02 0.98]]\n",
            "Anomaly detected!\n",
            "Published decision: 'Anomaly detected!' to topic: 'anomaly/detection'\n"
          ]
        },
        {
          "metadata": {
            "tags": null
          },
          "name": "stderr",
          "output_type": "stream",
          "text": [
            "/usr/local/lib/python3.10/dist-packages/sklearn/base.py:493: UserWarning: X does not have valid feature names, but RandomForestClassifier was fitted with feature names\n",
            "  warnings.warn(\n",
            "/usr/local/lib/python3.10/dist-packages/sklearn/base.py:493: UserWarning: X does not have valid feature names, but RandomForestClassifier was fitted with feature names\n",
            "  warnings.warn(\n",
            "/usr/local/lib/python3.10/dist-packages/sklearn/base.py:493: UserWarning: X does not have valid feature names, but RandomForestClassifier was fitted with feature names\n",
            "  warnings.warn(\n",
            "/usr/local/lib/python3.10/dist-packages/sklearn/base.py:493: UserWarning: X does not have valid feature names, but RandomForestClassifier was fitted with feature names\n",
            "  warnings.warn(\n"
          ]
        },
        {
          "metadata": {
            "tags": null
          },
          "name": "stdout",
          "output_type": "stream",
          "text": [
            "Received message: 28.9 on topic: room2/temperature2\n",
            "Input vector for model: [[2.320000e+01 2.800000e+01 6.370000e+01 9.929321e+04]]\n",
            "predictin_prob: [[0.02 0.98]]\n",
            "Anomaly detected!\n",
            "Published decision: 'Anomaly detected!' to topic: 'anomaly/detection'\n",
            "Received message: 23.3 on topic: room1/temperature1\n",
            "Input vector for model: [[2.330000e+01 2.800000e+01 6.370000e+01 9.929321e+04]]\n",
            "predictin_prob: [[0.02 0.98]]\n",
            "Anomaly detected!\n",
            "Published decision: 'Anomaly detected!' to topic: 'anomaly/detection'\n",
            "Received message: 71.1 on topic: room1/humidity1\n",
            "Input vector for model: [[2.330000e+01 2.800000e+01 6.710000e+01 9.929321e+04]]\n",
            "predictin_prob: [[0.02 0.98]]\n",
            "Anomaly detected!\n",
            "Published decision: 'Anomaly detected!' to topic: 'anomaly/detection'\n",
            "Received message: 99641.86 on topic: room2/pressure2\n",
            "Input vector for model: [[2.330000e+01 2.800000e+01 6.710000e+01 9.929186e+04]]\n",
            "predictin_prob: [[0.02 0.98]]\n",
            "Anomaly detected!\n",
            "Published decision: 'Anomaly detected!' to topic: 'anomaly/detection'\n"
          ]
        },
        {
          "metadata": {
            "tags": null
          },
          "name": "stderr",
          "output_type": "stream",
          "text": [
            "/usr/local/lib/python3.10/dist-packages/sklearn/base.py:493: UserWarning: X does not have valid feature names, but RandomForestClassifier was fitted with feature names\n",
            "  warnings.warn(\n",
            "/usr/local/lib/python3.10/dist-packages/sklearn/base.py:493: UserWarning: X does not have valid feature names, but RandomForestClassifier was fitted with feature names\n",
            "  warnings.warn(\n",
            "/usr/local/lib/python3.10/dist-packages/sklearn/base.py:493: UserWarning: X does not have valid feature names, but RandomForestClassifier was fitted with feature names\n",
            "  warnings.warn(\n",
            "/usr/local/lib/python3.10/dist-packages/sklearn/base.py:493: UserWarning: X does not have valid feature names, but RandomForestClassifier was fitted with feature names\n",
            "  warnings.warn(\n"
          ]
        },
        {
          "metadata": {
            "tags": null
          },
          "name": "stdout",
          "output_type": "stream",
          "text": [
            "Received message: 28.71 on topic: room2/temperature2\n",
            "Input vector for model: [[2.330000e+01 2.781000e+01 6.710000e+01 9.929186e+04]]\n",
            "predictin_prob: [[0.02 0.98]]\n",
            "Anomaly detected!\n",
            "Published decision: 'Anomaly detected!' to topic: 'anomaly/detection'\n",
            "Received message: 23.3 on topic: room1/temperature1\n",
            "Input vector for model: [[2.330000e+01 2.781000e+01 6.710000e+01 9.929186e+04]]\n",
            "predictin_prob: [[0.02 0.98]]\n",
            "Anomaly detected!\n",
            "Published decision: 'Anomaly detected!' to topic: 'anomaly/detection'\n",
            "Received message: 73.6 on topic: room1/humidity1\n",
            "Input vector for model: [[2.330000e+01 2.781000e+01 6.960000e+01 9.929186e+04]]\n",
            "predictin_prob: [[0.02 0.98]]\n",
            "Anomaly detected!\n",
            "Published decision: 'Anomaly detected!' to topic: 'anomaly/detection'\n",
            "Received message: 99641.07 on topic: room2/pressure2\n",
            "Input vector for model: [[2.330000e+01 2.781000e+01 6.960000e+01 9.929107e+04]]\n",
            "predictin_prob: [[0.02 0.98]]\n",
            "Anomaly detected!\n",
            "Published decision: 'Anomaly detected!' to topic: 'anomaly/detection'\n"
          ]
        },
        {
          "metadata": {
            "tags": null
          },
          "name": "stderr",
          "output_type": "stream",
          "text": [
            "/usr/local/lib/python3.10/dist-packages/sklearn/base.py:493: UserWarning: X does not have valid feature names, but RandomForestClassifier was fitted with feature names\n",
            "  warnings.warn(\n",
            "/usr/local/lib/python3.10/dist-packages/sklearn/base.py:493: UserWarning: X does not have valid feature names, but RandomForestClassifier was fitted with feature names\n",
            "  warnings.warn(\n",
            "/usr/local/lib/python3.10/dist-packages/sklearn/base.py:493: UserWarning: X does not have valid feature names, but RandomForestClassifier was fitted with feature names\n",
            "  warnings.warn(\n",
            "/usr/local/lib/python3.10/dist-packages/sklearn/base.py:493: UserWarning: X does not have valid feature names, but RandomForestClassifier was fitted with feature names\n",
            "  warnings.warn(\n"
          ]
        },
        {
          "metadata": {
            "tags": null
          },
          "name": "stdout",
          "output_type": "stream",
          "text": [
            "Received message: 28.36 on topic: room2/temperature2\n",
            "Input vector for model: [[2.330000e+01 2.746000e+01 6.960000e+01 9.929107e+04]]\n",
            "predictin_prob: [[0.02 0.98]]\n",
            "Anomaly detected!\n",
            "Published decision: 'Anomaly detected!' to topic: 'anomaly/detection'\n",
            "Received message: 23.4 on topic: room1/temperature1\n",
            "Input vector for model: [[2.340000e+01 2.746000e+01 6.960000e+01 9.929107e+04]]\n",
            "predictin_prob: [[0.02 0.98]]\n",
            "Anomaly detected!\n",
            "Published decision: 'Anomaly detected!' to topic: 'anomaly/detection'\n",
            "Received message: 75.1 on topic: room1/humidity1\n",
            "Input vector for model: [[2.340000e+01 2.746000e+01 7.110000e+01 9.929107e+04]]\n",
            "predictin_prob: [[0.02 0.98]]\n",
            "Anomaly detected!\n",
            "Published decision: 'Anomaly detected!' to topic: 'anomaly/detection'\n",
            "Received message: 99639.94 on topic: room2/pressure2\n",
            "Input vector for model: [[2.340000e+01 2.746000e+01 7.110000e+01 9.928994e+04]]\n",
            "predictin_prob: [[0.02 0.98]]\n",
            "Anomaly detected!\n",
            "Published decision: 'Anomaly detected!' to topic: 'anomaly/detection'\n"
          ]
        },
        {
          "metadata": {
            "tags": null
          },
          "name": "stderr",
          "output_type": "stream",
          "text": [
            "/usr/local/lib/python3.10/dist-packages/sklearn/base.py:493: UserWarning: X does not have valid feature names, but RandomForestClassifier was fitted with feature names\n",
            "  warnings.warn(\n",
            "/usr/local/lib/python3.10/dist-packages/sklearn/base.py:493: UserWarning: X does not have valid feature names, but RandomForestClassifier was fitted with feature names\n",
            "  warnings.warn(\n",
            "/usr/local/lib/python3.10/dist-packages/sklearn/base.py:493: UserWarning: X does not have valid feature names, but RandomForestClassifier was fitted with feature names\n",
            "  warnings.warn(\n",
            "/usr/local/lib/python3.10/dist-packages/sklearn/base.py:493: UserWarning: X does not have valid feature names, but RandomForestClassifier was fitted with feature names\n",
            "  warnings.warn(\n"
          ]
        },
        {
          "metadata": {
            "tags": null
          },
          "name": "stdout",
          "output_type": "stream",
          "text": [
            "Received message: 27.99 on topic: room2/temperature2\n",
            "Input vector for model: [[2.340000e+01 2.709000e+01 7.110000e+01 9.928994e+04]]\n",
            "predictin_prob: [[0.02 0.98]]\n",
            "Anomaly detected!\n",
            "Published decision: 'Anomaly detected!' to topic: 'anomaly/detection'\n",
            "Received message: 23.4 on topic: room1/temperature1\n",
            "Input vector for model: [[2.340000e+01 2.709000e+01 7.110000e+01 9.928994e+04]]\n",
            "predictin_prob: [[0.02 0.98]]\n",
            "Anomaly detected!\n",
            "Published decision: 'Anomaly detected!' to topic: 'anomaly/detection'\n",
            "Received message: 74.9 on topic: room1/humidity1\n",
            "Input vector for model: [[2.340000e+01 2.709000e+01 7.090000e+01 9.928994e+04]]\n",
            "predictin_prob: [[0.02 0.98]]\n",
            "Anomaly detected!\n",
            "Published decision: 'Anomaly detected!' to topic: 'anomaly/detection'\n",
            "Received message: 99638.45 on topic: room2/pressure2\n",
            "Input vector for model: [[2.340000e+01 2.709000e+01 7.090000e+01 9.928845e+04]]\n",
            "predictin_prob: [[0.02 0.98]]\n",
            "Anomaly detected!\n",
            "Published decision: 'Anomaly detected!' to topic: 'anomaly/detection'\n"
          ]
        },
        {
          "metadata": {
            "tags": null
          },
          "name": "stderr",
          "output_type": "stream",
          "text": [
            "/usr/local/lib/python3.10/dist-packages/sklearn/base.py:493: UserWarning: X does not have valid feature names, but RandomForestClassifier was fitted with feature names\n",
            "  warnings.warn(\n",
            "/usr/local/lib/python3.10/dist-packages/sklearn/base.py:493: UserWarning: X does not have valid feature names, but RandomForestClassifier was fitted with feature names\n",
            "  warnings.warn(\n",
            "/usr/local/lib/python3.10/dist-packages/sklearn/base.py:493: UserWarning: X does not have valid feature names, but RandomForestClassifier was fitted with feature names\n",
            "  warnings.warn(\n",
            "/usr/local/lib/python3.10/dist-packages/sklearn/base.py:493: UserWarning: X does not have valid feature names, but RandomForestClassifier was fitted with feature names\n",
            "  warnings.warn(\n"
          ]
        },
        {
          "metadata": {
            "tags": null
          },
          "name": "stdout",
          "output_type": "stream",
          "text": [
            "Received message: 23.4 on topic: room1/temperature1\n",
            "Input vector for model: [[2.340000e+01 2.709000e+01 7.090000e+01 9.928845e+04]]\n",
            "predictin_prob: [[0.02 0.98]]\n",
            "Anomaly detected!\n",
            "Published decision: 'Anomaly detected!' to topic: 'anomaly/detection'\n",
            "Received message: 73.3 on topic: room1/humidity1\n",
            "Input vector for model: [[2.340000e+01 2.709000e+01 6.930000e+01 9.928845e+04]]\n",
            "predictin_prob: [[0.02 0.98]]\n",
            "Anomaly detected!\n",
            "Published decision: 'Anomaly detected!' to topic: 'anomaly/detection'\n"
          ]
        },
        {
          "metadata": {
            "tags": null
          },
          "name": "stderr",
          "output_type": "stream",
          "text": [
            "/usr/local/lib/python3.10/dist-packages/sklearn/base.py:493: UserWarning: X does not have valid feature names, but RandomForestClassifier was fitted with feature names\n",
            "  warnings.warn(\n",
            "/usr/local/lib/python3.10/dist-packages/sklearn/base.py:493: UserWarning: X does not have valid feature names, but RandomForestClassifier was fitted with feature names\n",
            "  warnings.warn(\n"
          ]
        },
        {
          "metadata": {
            "tags": null
          },
          "name": "stdout",
          "output_type": "stream",
          "text": [
            "Received message: 27.6 on topic: room2/temperature2\n",
            "Input vector for model: [[2.340000e+01 2.670000e+01 6.930000e+01 9.928845e+04]]\n",
            "predictin_prob: [[0.02 0.98]]\n",
            "Anomaly detected!\n",
            "Published decision: 'Anomaly detected!' to topic: 'anomaly/detection'\n",
            "Received message: 99634.05 on topic: room2/pressure2\n",
            "Input vector for model: [[2.340000e+01 2.670000e+01 6.930000e+01 9.928405e+04]]\n",
            "predictin_prob: [[0.02 0.98]]\n",
            "Anomaly detected!\n",
            "Published decision: 'Anomaly detected!' to topic: 'anomaly/detection'\n"
          ]
        },
        {
          "metadata": {
            "tags": null
          },
          "name": "stderr",
          "output_type": "stream",
          "text": [
            "/usr/local/lib/python3.10/dist-packages/sklearn/base.py:493: UserWarning: X does not have valid feature names, but RandomForestClassifier was fitted with feature names\n",
            "  warnings.warn(\n",
            "/usr/local/lib/python3.10/dist-packages/sklearn/base.py:493: UserWarning: X does not have valid feature names, but RandomForestClassifier was fitted with feature names\n",
            "  warnings.warn(\n"
          ]
        },
        {
          "metadata": {
            "tags": null
          },
          "name": "stdout",
          "output_type": "stream",
          "text": [
            "Received message: 27.3 on topic: room2/temperature2\n",
            "Input vector for model: [[2.340000e+01 2.640000e+01 6.930000e+01 9.928405e+04]]\n",
            "predictin_prob: [[0.02 0.98]]\n",
            "Anomaly detected!\n",
            "Published decision: 'Anomaly detected!' to topic: 'anomaly/detection'\n",
            "Received message: 23.4 on topic: room1/temperature1\n",
            "Input vector for model: [[2.340000e+01 2.640000e+01 6.930000e+01 9.928405e+04]]\n",
            "predictin_prob: [[0.02 0.98]]\n",
            "Anomaly detected!\n",
            "Published decision: 'Anomaly detected!' to topic: 'anomaly/detection'\n",
            "Received message: 70.8 on topic: room1/humidity1\n",
            "Input vector for model: [[2.340000e+01 2.640000e+01 6.680000e+01 9.928405e+04]]\n",
            "predictin_prob: [[0.02 0.98]]\n",
            "Anomaly detected!\n",
            "Published decision: 'Anomaly detected!' to topic: 'anomaly/detection'\n",
            "Received message: 99635.52 on topic: room2/pressure2\n",
            "Input vector for model: [[2.340000e+01 2.640000e+01 6.680000e+01 9.928552e+04]]\n",
            "predictin_prob: [[0.02 0.98]]\n",
            "Anomaly detected!\n",
            "Published decision: 'Anomaly detected!' to topic: 'anomaly/detection'\n"
          ]
        },
        {
          "metadata": {
            "tags": null
          },
          "name": "stderr",
          "output_type": "stream",
          "text": [
            "/usr/local/lib/python3.10/dist-packages/sklearn/base.py:493: UserWarning: X does not have valid feature names, but RandomForestClassifier was fitted with feature names\n",
            "  warnings.warn(\n",
            "/usr/local/lib/python3.10/dist-packages/sklearn/base.py:493: UserWarning: X does not have valid feature names, but RandomForestClassifier was fitted with feature names\n",
            "  warnings.warn(\n",
            "/usr/local/lib/python3.10/dist-packages/sklearn/base.py:493: UserWarning: X does not have valid feature names, but RandomForestClassifier was fitted with feature names\n",
            "  warnings.warn(\n",
            "/usr/local/lib/python3.10/dist-packages/sklearn/base.py:493: UserWarning: X does not have valid feature names, but RandomForestClassifier was fitted with feature names\n",
            "  warnings.warn(\n"
          ]
        },
        {
          "metadata": {
            "tags": null
          },
          "name": "stdout",
          "output_type": "stream",
          "text": [
            "Received message: 27.06 on topic: room2/temperature2\n",
            "Input vector for model: [[2.340000e+01 2.616000e+01 6.680000e+01 9.928552e+04]]\n",
            "predictin_prob: [[0.02 0.98]]\n",
            "Anomaly detected!\n",
            "Published decision: 'Anomaly detected!' to topic: 'anomaly/detection'\n",
            "Received message: 23.5 on topic: room1/temperature1\n",
            "Input vector for model: [[2.350000e+01 2.616000e+01 6.680000e+01 9.928552e+04]]\n",
            "predictin_prob: [[0.02 0.98]]\n",
            "Anomaly detected!\n",
            "Published decision: 'Anomaly detected!' to topic: 'anomaly/detection'\n",
            "Received message: 68.2 on topic: room1/humidity1\n",
            "Input vector for model: [[2.350000e+01 2.616000e+01 6.420000e+01 9.928552e+04]]\n",
            "predictin_prob: [[0.02 0.98]]\n",
            "Anomaly detected!\n",
            "Published decision: 'Anomaly detected!' to topic: 'anomaly/detection'\n",
            "Received message: 99635.09 on topic: room2/pressure2\n",
            "Input vector for model: [[2.350000e+01 2.616000e+01 6.420000e+01 9.928509e+04]]\n",
            "predictin_prob: [[0.02 0.98]]\n",
            "Anomaly detected!\n",
            "Published decision: 'Anomaly detected!' to topic: 'anomaly/detection'\n"
          ]
        },
        {
          "metadata": {
            "tags": null
          },
          "name": "stderr",
          "output_type": "stream",
          "text": [
            "/usr/local/lib/python3.10/dist-packages/sklearn/base.py:493: UserWarning: X does not have valid feature names, but RandomForestClassifier was fitted with feature names\n",
            "  warnings.warn(\n",
            "/usr/local/lib/python3.10/dist-packages/sklearn/base.py:493: UserWarning: X does not have valid feature names, but RandomForestClassifier was fitted with feature names\n",
            "  warnings.warn(\n",
            "/usr/local/lib/python3.10/dist-packages/sklearn/base.py:493: UserWarning: X does not have valid feature names, but RandomForestClassifier was fitted with feature names\n",
            "  warnings.warn(\n",
            "/usr/local/lib/python3.10/dist-packages/sklearn/base.py:493: UserWarning: X does not have valid feature names, but RandomForestClassifier was fitted with feature names\n",
            "  warnings.warn(\n"
          ]
        },
        {
          "metadata": {
            "tags": null
          },
          "name": "stdout",
          "output_type": "stream",
          "text": [
            "Received message: 26.85 on topic: room2/temperature2\n",
            "Input vector for model: [[2.350000e+01 2.595000e+01 6.420000e+01 9.928509e+04]]\n",
            "predictin_prob: [[0.02 0.98]]\n",
            "Anomaly detected!\n",
            "Published decision: 'Anomaly detected!' to topic: 'anomaly/detection'\n",
            "Received message: 23.5 on topic: room1/temperature1\n",
            "Input vector for model: [[2.350000e+01 2.595000e+01 6.420000e+01 9.928509e+04]]\n",
            "predictin_prob: [[0.02 0.98]]\n",
            "Anomaly detected!\n",
            "Published decision: 'Anomaly detected!' to topic: 'anomaly/detection'\n",
            "Received message: 65.3 on topic: room1/humidity1\n",
            "Input vector for model: [[2.350000e+01 2.595000e+01 6.130000e+01 9.928509e+04]]\n",
            "predictin_prob: [[0.02 0.98]]\n",
            "Anomaly detected!\n",
            "Published decision: 'Anomaly detected!' to topic: 'anomaly/detection'\n",
            "Received message: 99635.92 on topic: room2/pressure2\n",
            "Input vector for model: [[2.350000e+01 2.595000e+01 6.130000e+01 9.928592e+04]]\n",
            "predictin_prob: [[0.02 0.98]]\n",
            "Anomaly detected!\n",
            "Published decision: 'Anomaly detected!' to topic: 'anomaly/detection'\n"
          ]
        },
        {
          "metadata": {
            "tags": null
          },
          "name": "stderr",
          "output_type": "stream",
          "text": [
            "/usr/local/lib/python3.10/dist-packages/sklearn/base.py:493: UserWarning: X does not have valid feature names, but RandomForestClassifier was fitted with feature names\n",
            "  warnings.warn(\n",
            "/usr/local/lib/python3.10/dist-packages/sklearn/base.py:493: UserWarning: X does not have valid feature names, but RandomForestClassifier was fitted with feature names\n",
            "  warnings.warn(\n",
            "/usr/local/lib/python3.10/dist-packages/sklearn/base.py:493: UserWarning: X does not have valid feature names, but RandomForestClassifier was fitted with feature names\n",
            "  warnings.warn(\n",
            "/usr/local/lib/python3.10/dist-packages/sklearn/base.py:493: UserWarning: X does not have valid feature names, but RandomForestClassifier was fitted with feature names\n",
            "  warnings.warn(\n"
          ]
        },
        {
          "metadata": {
            "tags": null
          },
          "name": "stdout",
          "output_type": "stream",
          "text": [
            "Received message: 26.65 on topic: room2/temperature2\n",
            "Input vector for model: [[2.350000e+01 2.575000e+01 6.130000e+01 9.928592e+04]]\n",
            "predictin_prob: [[0.02 0.98]]\n",
            "Anomaly detected!\n",
            "Published decision: 'Anomaly detected!' to topic: 'anomaly/detection'\n",
            "Received message: 62.4 on topic: room1/humidity1\n",
            "Input vector for model: [[2.350000e+01 2.575000e+01 5.840000e+01 9.928592e+04]]\n",
            "predictin_prob: [[0.02 0.98]]\n",
            "Anomaly detected!\n",
            "Published decision: 'Anomaly detected!' to topic: 'anomaly/detection'\n",
            "Received message: 99638.83 on topic: room2/pressure2\n",
            "Input vector for model: [[2.350000e+01 2.575000e+01 5.840000e+01 9.928883e+04]]\n",
            "predictin_prob: [[0.02 0.98]]\n",
            "Anomaly detected!\n",
            "Published decision: 'Anomaly detected!' to topic: 'anomaly/detection'\n",
            "Received message: 23.5 on topic: room1/temperature1\n",
            "Input vector for model: [[2.350000e+01 2.575000e+01 5.840000e+01 9.928883e+04]]\n",
            "predictin_prob: [[0.02 0.98]]\n",
            "Anomaly detected!\n",
            "Published decision: 'Anomaly detected!' to topic: 'anomaly/detection'\n"
          ]
        },
        {
          "metadata": {
            "tags": null
          },
          "name": "stderr",
          "output_type": "stream",
          "text": [
            "/usr/local/lib/python3.10/dist-packages/sklearn/base.py:493: UserWarning: X does not have valid feature names, but RandomForestClassifier was fitted with feature names\n",
            "  warnings.warn(\n",
            "/usr/local/lib/python3.10/dist-packages/sklearn/base.py:493: UserWarning: X does not have valid feature names, but RandomForestClassifier was fitted with feature names\n",
            "  warnings.warn(\n",
            "/usr/local/lib/python3.10/dist-packages/sklearn/base.py:493: UserWarning: X does not have valid feature names, but RandomForestClassifier was fitted with feature names\n",
            "  warnings.warn(\n",
            "/usr/local/lib/python3.10/dist-packages/sklearn/base.py:493: UserWarning: X does not have valid feature names, but RandomForestClassifier was fitted with feature names\n",
            "  warnings.warn(\n"
          ]
        },
        {
          "metadata": {
            "tags": null
          },
          "name": "stdout",
          "output_type": "stream",
          "text": [
            "Received message: 26.46 on topic: room2/temperature2\n",
            "Input vector for model: [[2.350000e+01 2.556000e+01 5.840000e+01 9.928883e+04]]\n",
            "predictin_prob: [[0.03 0.97]]\n",
            "Anomaly detected!\n",
            "Published decision: 'Anomaly detected!' to topic: 'anomaly/detection'\n",
            "Received message: 99639.36 on topic: room2/pressure2\n",
            "Input vector for model: [[2.350000e+01 2.556000e+01 5.840000e+01 9.928936e+04]]\n",
            "predictin_prob: [[0.03 0.97]]\n",
            "Anomaly detected!\n",
            "Published decision: 'Anomaly detected!' to topic: 'anomaly/detection'\n",
            "Received message: 59.5 on topic: room1/humidity1\n",
            "Input vector for model: [[2.350000e+01 2.556000e+01 5.550000e+01 9.928936e+04]]\n",
            "predictin_prob: [[0.03 0.97]]\n",
            "Anomaly detected!\n",
            "Published decision: 'Anomaly detected!' to topic: 'anomaly/detection'\n",
            "Received message: 23.5 on topic: room1/temperature1\n",
            "Input vector for model: [[2.350000e+01 2.556000e+01 5.550000e+01 9.928936e+04]]\n",
            "predictin_prob: [[0.03 0.97]]\n",
            "Anomaly detected!\n",
            "Published decision: 'Anomaly detected!' to topic: 'anomaly/detection'\n"
          ]
        },
        {
          "metadata": {
            "tags": null
          },
          "name": "stderr",
          "output_type": "stream",
          "text": [
            "/usr/local/lib/python3.10/dist-packages/sklearn/base.py:493: UserWarning: X does not have valid feature names, but RandomForestClassifier was fitted with feature names\n",
            "  warnings.warn(\n",
            "/usr/local/lib/python3.10/dist-packages/sklearn/base.py:493: UserWarning: X does not have valid feature names, but RandomForestClassifier was fitted with feature names\n",
            "  warnings.warn(\n",
            "/usr/local/lib/python3.10/dist-packages/sklearn/base.py:493: UserWarning: X does not have valid feature names, but RandomForestClassifier was fitted with feature names\n",
            "  warnings.warn(\n",
            "/usr/local/lib/python3.10/dist-packages/sklearn/base.py:493: UserWarning: X does not have valid feature names, but RandomForestClassifier was fitted with feature names\n",
            "  warnings.warn(\n"
          ]
        },
        {
          "metadata": {
            "tags": null
          },
          "name": "stdout",
          "output_type": "stream",
          "text": [
            "Received message: 26.28 on topic: room2/temperature2\n",
            "Input vector for model: [[2.350000e+01 2.538000e+01 5.550000e+01 9.928936e+04]]\n",
            "predictin_prob: [[0.03 0.97]]\n",
            "Anomaly detected!\n",
            "Published decision: 'Anomaly detected!' to topic: 'anomaly/detection'\n",
            "Received message: 23.6 on topic: room1/temperature1\n",
            "Input vector for model: [[2.360000e+01 2.538000e+01 5.550000e+01 9.928936e+04]]\n",
            "predictin_prob: [[0.03 0.97]]\n",
            "Anomaly detected!\n",
            "Published decision: 'Anomaly detected!' to topic: 'anomaly/detection'\n",
            "Received message: 99637.73 on topic: room2/pressure2\n",
            "Input vector for model: [[2.360000e+01 2.538000e+01 5.550000e+01 9.928773e+04]]\n",
            "predictin_prob: [[0.03 0.97]]\n",
            "Anomaly detected!\n",
            "Published decision: 'Anomaly detected!' to topic: 'anomaly/detection'\n",
            "Received message: 56.8 on topic: room1/humidity1\n",
            "Input vector for model: [[2.360000e+01 2.538000e+01 5.280000e+01 9.928773e+04]]\n",
            "predictin_prob: [[0.09 0.91]]\n",
            "Anomaly detected!\n",
            "Published decision: 'Anomaly detected!' to topic: 'anomaly/detection'\n"
          ]
        },
        {
          "metadata": {
            "tags": null
          },
          "name": "stderr",
          "output_type": "stream",
          "text": [
            "/usr/local/lib/python3.10/dist-packages/sklearn/base.py:493: UserWarning: X does not have valid feature names, but RandomForestClassifier was fitted with feature names\n",
            "  warnings.warn(\n",
            "/usr/local/lib/python3.10/dist-packages/sklearn/base.py:493: UserWarning: X does not have valid feature names, but RandomForestClassifier was fitted with feature names\n",
            "  warnings.warn(\n",
            "/usr/local/lib/python3.10/dist-packages/sklearn/base.py:493: UserWarning: X does not have valid feature names, but RandomForestClassifier was fitted with feature names\n",
            "  warnings.warn(\n",
            "/usr/local/lib/python3.10/dist-packages/sklearn/base.py:493: UserWarning: X does not have valid feature names, but RandomForestClassifier was fitted with feature names\n",
            "  warnings.warn(\n"
          ]
        },
        {
          "metadata": {
            "tags": null
          },
          "name": "stdout",
          "output_type": "stream",
          "text": [
            "Received message: 26.12 on topic: room2/temperature2\n",
            "Input vector for model: [[2.360000e+01 2.522000e+01 5.280000e+01 9.928773e+04]]\n",
            "predictin_prob: [[0.09 0.91]]\n",
            "Anomaly detected!\n",
            "Published decision: 'Anomaly detected!' to topic: 'anomaly/detection'\n",
            "Received message: 23.5 on topic: room1/temperature1\n",
            "Input vector for model: [[2.350000e+01 2.522000e+01 5.280000e+01 9.928773e+04]]\n",
            "predictin_prob: [[0.09 0.91]]\n",
            "Anomaly detected!\n",
            "Published decision: 'Anomaly detected!' to topic: 'anomaly/detection'\n",
            "Received message: 54.2 on topic: room1/humidity1\n",
            "Input vector for model: [[2.350000e+01 2.522000e+01 5.020000e+01 9.928773e+04]]\n",
            "predictin_prob: [[0.26 0.74]]\n",
            "Anomaly detected!\n",
            "Published decision: 'Anomaly detected!' to topic: 'anomaly/detection'\n",
            "Received message: 99637.36 on topic: room2/pressure2\n",
            "Input vector for model: [[2.350000e+01 2.522000e+01 5.020000e+01 9.928736e+04]]\n",
            "predictin_prob: [[0.26 0.74]]\n",
            "Anomaly detected!\n",
            "Published decision: 'Anomaly detected!' to topic: 'anomaly/detection'\n"
          ]
        },
        {
          "metadata": {
            "tags": null
          },
          "name": "stderr",
          "output_type": "stream",
          "text": [
            "/usr/local/lib/python3.10/dist-packages/sklearn/base.py:493: UserWarning: X does not have valid feature names, but RandomForestClassifier was fitted with feature names\n",
            "  warnings.warn(\n",
            "/usr/local/lib/python3.10/dist-packages/sklearn/base.py:493: UserWarning: X does not have valid feature names, but RandomForestClassifier was fitted with feature names\n",
            "  warnings.warn(\n",
            "/usr/local/lib/python3.10/dist-packages/sklearn/base.py:493: UserWarning: X does not have valid feature names, but RandomForestClassifier was fitted with feature names\n",
            "  warnings.warn(\n",
            "/usr/local/lib/python3.10/dist-packages/sklearn/base.py:493: UserWarning: X does not have valid feature names, but RandomForestClassifier was fitted with feature names\n",
            "  warnings.warn(\n"
          ]
        },
        {
          "metadata": {
            "tags": null
          },
          "name": "stdout",
          "output_type": "stream",
          "text": [
            "Received message: 25.97 on topic: room2/temperature2\n",
            "Input vector for model: [[2.350000e+01 2.507000e+01 5.020000e+01 9.928736e+04]]\n",
            "predictin_prob: [[0.26 0.74]]\n",
            "Anomaly detected!\n",
            "Published decision: 'Anomaly detected!' to topic: 'anomaly/detection'\n",
            "Received message: 23.6 on topic: room1/temperature1\n",
            "Input vector for model: [[2.360000e+01 2.507000e+01 5.020000e+01 9.928736e+04]]\n",
            "predictin_prob: [[0.26 0.74]]\n",
            "Anomaly detected!\n",
            "Published decision: 'Anomaly detected!' to topic: 'anomaly/detection'\n",
            "Received message: 51.7 on topic: room1/humidity1\n",
            "Input vector for model: [[2.360000e+01 2.507000e+01 4.770000e+01 9.928736e+04]]\n",
            "predictin_prob: [[0.29 0.71]]\n",
            "Anomaly detected!\n",
            "Published decision: 'Anomaly detected!' to topic: 'anomaly/detection'\n",
            "Received message: 99636.27 on topic: room2/pressure2\n",
            "Input vector for model: [[2.360000e+01 2.507000e+01 4.770000e+01 9.928627e+04]]\n",
            "predictin_prob: [[0.29 0.71]]\n",
            "Anomaly detected!\n",
            "Published decision: 'Anomaly detected!' to topic: 'anomaly/detection'\n"
          ]
        },
        {
          "metadata": {
            "tags": null
          },
          "name": "stderr",
          "output_type": "stream",
          "text": [
            "/usr/local/lib/python3.10/dist-packages/sklearn/base.py:493: UserWarning: X does not have valid feature names, but RandomForestClassifier was fitted with feature names\n",
            "  warnings.warn(\n",
            "/usr/local/lib/python3.10/dist-packages/sklearn/base.py:493: UserWarning: X does not have valid feature names, but RandomForestClassifier was fitted with feature names\n",
            "  warnings.warn(\n",
            "/usr/local/lib/python3.10/dist-packages/sklearn/base.py:493: UserWarning: X does not have valid feature names, but RandomForestClassifier was fitted with feature names\n",
            "  warnings.warn(\n",
            "/usr/local/lib/python3.10/dist-packages/sklearn/base.py:493: UserWarning: X does not have valid feature names, but RandomForestClassifier was fitted with feature names\n",
            "  warnings.warn(\n"
          ]
        },
        {
          "metadata": {
            "tags": null
          },
          "name": "stdout",
          "output_type": "stream",
          "text": [
            "Received message: 25.84 on topic: room2/temperature2\n",
            "Input vector for model: [[2.360000e+01 2.494000e+01 4.770000e+01 9.928627e+04]]\n",
            "predictin_prob: [[0.3 0.7]]\n",
            "Anomaly detected!\n",
            "Published decision: 'Anomaly detected!' to topic: 'anomaly/detection'\n",
            "Received message: 23.6 on topic: room1/temperature1\n",
            "Input vector for model: [[2.360000e+01 2.494000e+01 4.770000e+01 9.928627e+04]]\n",
            "predictin_prob: [[0.3 0.7]]\n",
            "Anomaly detected!\n",
            "Published decision: 'Anomaly detected!' to topic: 'anomaly/detection'\n",
            "Received message: 49.3 on topic: room1/humidity1\n",
            "Input vector for model: [[2.360000e+01 2.494000e+01 4.530000e+01 9.928627e+04]]\n",
            "predictin_prob: [[0.3 0.7]]\n",
            "Anomaly detected!\n",
            "Published decision: 'Anomaly detected!' to topic: 'anomaly/detection'\n",
            "Received message: 99636.17 on topic: room2/pressure2\n",
            "Input vector for model: [[2.360000e+01 2.494000e+01 4.530000e+01 9.928617e+04]]\n",
            "predictin_prob: [[0.3 0.7]]\n",
            "Anomaly detected!\n",
            "Published decision: 'Anomaly detected!' to topic: 'anomaly/detection'\n"
          ]
        },
        {
          "metadata": {
            "tags": null
          },
          "name": "stderr",
          "output_type": "stream",
          "text": [
            "/usr/local/lib/python3.10/dist-packages/sklearn/base.py:493: UserWarning: X does not have valid feature names, but RandomForestClassifier was fitted with feature names\n",
            "  warnings.warn(\n",
            "/usr/local/lib/python3.10/dist-packages/sklearn/base.py:493: UserWarning: X does not have valid feature names, but RandomForestClassifier was fitted with feature names\n",
            "  warnings.warn(\n",
            "/usr/local/lib/python3.10/dist-packages/sklearn/base.py:493: UserWarning: X does not have valid feature names, but RandomForestClassifier was fitted with feature names\n",
            "  warnings.warn(\n",
            "/usr/local/lib/python3.10/dist-packages/sklearn/base.py:493: UserWarning: X does not have valid feature names, but RandomForestClassifier was fitted with feature names\n",
            "  warnings.warn(\n"
          ]
        },
        {
          "metadata": {
            "tags": null
          },
          "name": "stdout",
          "output_type": "stream",
          "text": [
            "Received message: 25.71 on topic: room2/temperature2\n",
            "Input vector for model: [[2.360000e+01 2.481000e+01 4.530000e+01 9.928617e+04]]\n",
            "predictin_prob: [[0.3 0.7]]\n",
            "Anomaly detected!\n",
            "Published decision: 'Anomaly detected!' to topic: 'anomaly/detection'\n",
            "Received message: 23.6 on topic: room1/temperature1\n",
            "Input vector for model: [[2.360000e+01 2.481000e+01 4.530000e+01 9.928617e+04]]\n",
            "predictin_prob: [[0.3 0.7]]\n",
            "Anomaly detected!\n",
            "Published decision: 'Anomaly detected!' to topic: 'anomaly/detection'\n",
            "Received message: 47.1 on topic: room1/humidity1\n",
            "Input vector for model: [[2.360000e+01 2.481000e+01 4.310000e+01 9.928617e+04]]\n",
            "predictin_prob: [[0.3 0.7]]\n",
            "Anomaly detected!\n",
            "Published decision: 'Anomaly detected!' to topic: 'anomaly/detection'\n",
            "Received message: 99633.52 on topic: room2/pressure2\n",
            "Input vector for model: [[2.360000e+01 2.481000e+01 4.310000e+01 9.928352e+04]]\n",
            "predictin_prob: [[0.3 0.7]]\n",
            "Anomaly detected!\n",
            "Published decision: 'Anomaly detected!' to topic: 'anomaly/detection'\n"
          ]
        },
        {
          "metadata": {
            "tags": null
          },
          "name": "stderr",
          "output_type": "stream",
          "text": [
            "/usr/local/lib/python3.10/dist-packages/sklearn/base.py:493: UserWarning: X does not have valid feature names, but RandomForestClassifier was fitted with feature names\n",
            "  warnings.warn(\n",
            "/usr/local/lib/python3.10/dist-packages/sklearn/base.py:493: UserWarning: X does not have valid feature names, but RandomForestClassifier was fitted with feature names\n",
            "  warnings.warn(\n",
            "/usr/local/lib/python3.10/dist-packages/sklearn/base.py:493: UserWarning: X does not have valid feature names, but RandomForestClassifier was fitted with feature names\n",
            "  warnings.warn(\n",
            "/usr/local/lib/python3.10/dist-packages/sklearn/base.py:493: UserWarning: X does not have valid feature names, but RandomForestClassifier was fitted with feature names\n",
            "  warnings.warn(\n"
          ]
        },
        {
          "metadata": {
            "tags": null
          },
          "name": "stdout",
          "output_type": "stream",
          "text": [
            "Received message: 25.6 on topic: room2/temperature2\n",
            "Input vector for model: [[2.360000e+01 2.470000e+01 4.310000e+01 9.928352e+04]]\n",
            "predictin_prob: [[0.3 0.7]]\n",
            "Anomaly detected!\n",
            "Published decision: 'Anomaly detected!' to topic: 'anomaly/detection'\n",
            "Received message: 23.6 on topic: room1/temperature1\n",
            "Input vector for model: [[2.360000e+01 2.470000e+01 4.310000e+01 9.928352e+04]]\n",
            "predictin_prob: [[0.3 0.7]]\n",
            "Anomaly detected!\n",
            "Published decision: 'Anomaly detected!' to topic: 'anomaly/detection'\n",
            "Received message: 44.9 on topic: room1/humidity1\n",
            "Input vector for model: [[2.360000e+01 2.470000e+01 4.090000e+01 9.928352e+04]]\n",
            "predictin_prob: [[0.3 0.7]]\n",
            "Anomaly detected!\n",
            "Published decision: 'Anomaly detected!' to topic: 'anomaly/detection'\n",
            "Received message: 99637.16 on topic: room2/pressure2\n",
            "Input vector for model: [[2.360000e+01 2.470000e+01 4.090000e+01 9.928716e+04]]\n",
            "predictin_prob: [[0.3 0.7]]\n",
            "Anomaly detected!\n",
            "Published decision: 'Anomaly detected!' to topic: 'anomaly/detection'\n"
          ]
        },
        {
          "metadata": {
            "tags": null
          },
          "name": "stderr",
          "output_type": "stream",
          "text": [
            "/usr/local/lib/python3.10/dist-packages/sklearn/base.py:493: UserWarning: X does not have valid feature names, but RandomForestClassifier was fitted with feature names\n",
            "  warnings.warn(\n",
            "/usr/local/lib/python3.10/dist-packages/sklearn/base.py:493: UserWarning: X does not have valid feature names, but RandomForestClassifier was fitted with feature names\n",
            "  warnings.warn(\n",
            "/usr/local/lib/python3.10/dist-packages/sklearn/base.py:493: UserWarning: X does not have valid feature names, but RandomForestClassifier was fitted with feature names\n",
            "  warnings.warn(\n",
            "/usr/local/lib/python3.10/dist-packages/sklearn/base.py:493: UserWarning: X does not have valid feature names, but RandomForestClassifier was fitted with feature names\n",
            "  warnings.warn(\n"
          ]
        },
        {
          "metadata": {
            "tags": null
          },
          "name": "stdout",
          "output_type": "stream",
          "text": [
            "Received message: 25.53 on topic: room2/temperature2\n",
            "Input vector for model: [[2.360000e+01 2.463000e+01 4.090000e+01 9.928716e+04]]\n",
            "predictin_prob: [[0.3 0.7]]\n",
            "Anomaly detected!\n",
            "Published decision: 'Anomaly detected!' to topic: 'anomaly/detection'\n",
            "Received message: 42.8 on topic: room1/humidity1\n",
            "Input vector for model: [[2.360000e+01 2.463000e+01 3.880000e+01 9.928716e+04]]\n",
            "predictin_prob: [[0.3 0.7]]\n",
            "Anomaly detected!\n",
            "Published decision: 'Anomaly detected!' to topic: 'anomaly/detection'\n",
            "Received message: 99636.0 on topic: room2/pressure2\n",
            "Input vector for model: [[2.3600e+01 2.4630e+01 3.8800e+01 9.9286e+04]]\n",
            "predictin_prob: [[0.3 0.7]]\n",
            "Anomaly detected!\n",
            "Published decision: 'Anomaly detected!' to topic: 'anomaly/detection'\n",
            "Received message: 23.6 on topic: room1/temperature1\n",
            "Input vector for model: [[2.3600e+01 2.4630e+01 3.8800e+01 9.9286e+04]]\n",
            "predictin_prob: [[0.3 0.7]]\n",
            "Anomaly detected!\n",
            "Published decision: 'Anomaly detected!' to topic: 'anomaly/detection'\n"
          ]
        },
        {
          "metadata": {
            "tags": null
          },
          "name": "stderr",
          "output_type": "stream",
          "text": [
            "/usr/local/lib/python3.10/dist-packages/sklearn/base.py:493: UserWarning: X does not have valid feature names, but RandomForestClassifier was fitted with feature names\n",
            "  warnings.warn(\n",
            "/usr/local/lib/python3.10/dist-packages/sklearn/base.py:493: UserWarning: X does not have valid feature names, but RandomForestClassifier was fitted with feature names\n",
            "  warnings.warn(\n",
            "/usr/local/lib/python3.10/dist-packages/sklearn/base.py:493: UserWarning: X does not have valid feature names, but RandomForestClassifier was fitted with feature names\n",
            "  warnings.warn(\n",
            "/usr/local/lib/python3.10/dist-packages/sklearn/base.py:493: UserWarning: X does not have valid feature names, but RandomForestClassifier was fitted with feature names\n",
            "  warnings.warn(\n"
          ]
        },
        {
          "metadata": {
            "tags": null
          },
          "name": "stdout",
          "output_type": "stream",
          "text": [
            "Received message: 25.47 on topic: room2/temperature2\n",
            "Input vector for model: [[2.3600e+01 2.4570e+01 3.8800e+01 9.9286e+04]]\n",
            "predictin_prob: [[0.3 0.7]]\n",
            "Anomaly detected!\n",
            "Published decision: 'Anomaly detected!' to topic: 'anomaly/detection'\n",
            "Received message: 99637.69 on topic: room2/pressure2\n",
            "Input vector for model: [[2.360000e+01 2.457000e+01 3.880000e+01 9.928769e+04]]\n",
            "predictin_prob: [[0.3 0.7]]\n",
            "Anomaly detected!\n",
            "Published decision: 'Anomaly detected!' to topic: 'anomaly/detection'\n",
            "Received message: 23.6 on topic: room1/temperature1\n",
            "Input vector for model: [[2.360000e+01 2.457000e+01 3.880000e+01 9.928769e+04]]\n",
            "predictin_prob: [[0.3 0.7]]\n",
            "Anomaly detected!\n",
            "Published decision: 'Anomaly detected!' to topic: 'anomaly/detection'\n",
            "Received message: 23.6 on topic: room1/temperature1\n",
            "Input vector for model: [[2.360000e+01 2.457000e+01 3.880000e+01 9.928769e+04]]\n",
            "predictin_prob: [[0.3 0.7]]\n",
            "Anomaly detected!\n",
            "Published decision: 'Anomaly detected!' to topic: 'anomaly/detection'\n",
            "Received message: 40.9 on topic: room1/humidity1\n",
            "Input vector for model: [[2.360000e+01 2.457000e+01 3.690000e+01 9.928769e+04]]\n",
            "predictin_prob: [[0.3 0.7]]\n",
            "Anomaly detected!\n",
            "Published decision: 'Anomaly detected!' to topic: 'anomaly/detection'\n",
            "Received message: 25.4 on topic: room2/temperature2\n",
            "Input vector for model: [[2.360000e+01 2.450000e+01 3.690000e+01 9.928769e+04]]\n",
            "predictin_prob: [[0.3 0.7]]\n",
            "Anomaly detected!\n",
            "Published decision: 'Anomaly detected!' to topic: 'anomaly/detection'\n",
            "Received message: 25.33 on topic: room2/temperature2\n",
            "Input vector for model: [[2.360000e+01 2.443000e+01 3.690000e+01 9.928769e+04]]\n",
            "predictin_prob: [[0.31 0.69]]\n",
            "Anomaly detected!\n",
            "Published decision: 'Anomaly detected!' to topic: 'anomaly/detection'\n",
            "Received message: 25.27 on topic: room2/temperature2\n",
            "Input vector for model: [[2.360000e+01 2.437000e+01 3.690000e+01 9.928769e+04]]\n",
            "predictin_prob: [[0.31 0.69]]\n",
            "Anomaly detected!\n",
            "Published decision: 'Anomaly detected!' to topic: 'anomaly/detection'\n",
            "Received message: 99636.59 on topic: room2/pressure2\n",
            "Input vector for model: [[2.360000e+01 2.437000e+01 3.690000e+01 9.928659e+04]]\n",
            "predictin_prob: [[0.31 0.69]]\n",
            "Anomaly detected!\n",
            "Published decision: 'Anomaly detected!' to topic: 'anomaly/detection'\n",
            "Received message: 39.1 on topic: room1/humidity1\n",
            "Input vector for model: [[2.360000e+01 2.437000e+01 3.510000e+01 9.928659e+04]]\n",
            "predictin_prob: [[0.31 0.69]]\n",
            "Anomaly detected!\n",
            "Published decision: 'Anomaly detected!' to topic: 'anomaly/detection'\n",
            "Received message: 37.4 on topic: room1/humidity1\n",
            "Input vector for model: [[2.360000e+01 2.437000e+01 3.340000e+01 9.928659e+04]]\n",
            "predictin_prob: [[0.31 0.69]]\n",
            "Anomaly detected!\n",
            "Published decision: 'Anomaly detected!' to topic: 'anomaly/detection'\n",
            "Received message: 23.6 on topic: room1/temperature1\n",
            "Input vector for model: [[2.360000e+01 2.437000e+01 3.340000e+01 9.928659e+04]]\n",
            "predictin_prob: [[0.31 0.69]]\n",
            "Anomaly detected!\n",
            "Published decision: 'Anomaly detected!' to topic: 'anomaly/detection'\n",
            "Received message: 23.6 on topic: room1/temperature1\n",
            "Input vector for model: [[2.360000e+01 2.437000e+01 3.340000e+01 9.928659e+04]]\n",
            "predictin_prob: [[0.31 0.69]]\n",
            "Anomaly detected!\n",
            "Published decision: 'Anomaly detected!' to topic: 'anomaly/detection'\n",
            "Received message: 99638.86 on topic: room2/pressure2\n",
            "Input vector for model: [[2.360000e+01 2.437000e+01 3.340000e+01 9.928886e+04]]\n",
            "predictin_prob: [[0.31 0.69]]\n",
            "Anomaly detected!\n",
            "Published decision: 'Anomaly detected!' to topic: 'anomaly/detection'\n",
            "Received message: 99638.49 on topic: room2/pressure2\n",
            "Input vector for model: [[2.360000e+01 2.437000e+01 3.340000e+01 9.928849e+04]]\n",
            "predictin_prob: [[0.31 0.69]]\n",
            "Anomaly detected!\n",
            "Published decision: 'Anomaly detected!' to topic: 'anomaly/detection'\n",
            "Received message: 35.9 on topic: room1/humidity1\n",
            "Input vector for model: [[2.360000e+01 2.437000e+01 3.190000e+01 9.928849e+04]]\n",
            "predictin_prob: [[0.31 0.69]]\n",
            "Anomaly detected!\n",
            "Published decision: 'Anomaly detected!' to topic: 'anomaly/detection'\n",
            "Received message: 25.21 on topic: room2/temperature2\n",
            "Input vector for model: [[2.360000e+01 2.431000e+01 3.190000e+01 9.928849e+04]]\n",
            "predictin_prob: [[0.31 0.69]]\n",
            "Anomaly detected!\n",
            "Published decision: 'Anomaly detected!' to topic: 'anomaly/detection'\n",
            "Received message: 34.5 on topic: room1/humidity1\n",
            "Input vector for model: [[2.360000e+01 2.431000e+01 3.050000e+01 9.928849e+04]]\n",
            "predictin_prob: [[0.31 0.69]]\n",
            "Anomaly detected!\n",
            "Published decision: 'Anomaly detected!' to topic: 'anomaly/detection'\n",
            "Received message: 23.6 on topic: room1/temperature1\n",
            "Input vector for model: [[2.360000e+01 2.431000e+01 3.050000e+01 9.928849e+04]]\n"
          ]
        },
        {
          "metadata": {
            "tags": null
          },
          "name": "stderr",
          "output_type": "stream",
          "text": [
            "/usr/local/lib/python3.10/dist-packages/sklearn/base.py:493: UserWarning: X does not have valid feature names, but RandomForestClassifier was fitted with feature names\n",
            "  warnings.warn(\n",
            "/usr/local/lib/python3.10/dist-packages/sklearn/base.py:493: UserWarning: X does not have valid feature names, but RandomForestClassifier was fitted with feature names\n",
            "  warnings.warn(\n",
            "/usr/local/lib/python3.10/dist-packages/sklearn/base.py:493: UserWarning: X does not have valid feature names, but RandomForestClassifier was fitted with feature names\n",
            "  warnings.warn(\n",
            "/usr/local/lib/python3.10/dist-packages/sklearn/base.py:493: UserWarning: X does not have valid feature names, but RandomForestClassifier was fitted with feature names\n",
            "  warnings.warn(\n",
            "/usr/local/lib/python3.10/dist-packages/sklearn/base.py:493: UserWarning: X does not have valid feature names, but RandomForestClassifier was fitted with feature names\n",
            "  warnings.warn(\n",
            "/usr/local/lib/python3.10/dist-packages/sklearn/base.py:493: UserWarning: X does not have valid feature names, but RandomForestClassifier was fitted with feature names\n",
            "  warnings.warn(\n",
            "/usr/local/lib/python3.10/dist-packages/sklearn/base.py:493: UserWarning: X does not have valid feature names, but RandomForestClassifier was fitted with feature names\n",
            "  warnings.warn(\n",
            "/usr/local/lib/python3.10/dist-packages/sklearn/base.py:493: UserWarning: X does not have valid feature names, but RandomForestClassifier was fitted with feature names\n",
            "  warnings.warn(\n",
            "/usr/local/lib/python3.10/dist-packages/sklearn/base.py:493: UserWarning: X does not have valid feature names, but RandomForestClassifier was fitted with feature names\n",
            "  warnings.warn(\n",
            "/usr/local/lib/python3.10/dist-packages/sklearn/base.py:493: UserWarning: X does not have valid feature names, but RandomForestClassifier was fitted with feature names\n",
            "  warnings.warn(\n",
            "/usr/local/lib/python3.10/dist-packages/sklearn/base.py:493: UserWarning: X does not have valid feature names, but RandomForestClassifier was fitted with feature names\n",
            "  warnings.warn(\n",
            "/usr/local/lib/python3.10/dist-packages/sklearn/base.py:493: UserWarning: X does not have valid feature names, but RandomForestClassifier was fitted with feature names\n",
            "  warnings.warn(\n",
            "/usr/local/lib/python3.10/dist-packages/sklearn/base.py:493: UserWarning: X does not have valid feature names, but RandomForestClassifier was fitted with feature names\n",
            "  warnings.warn(\n",
            "/usr/local/lib/python3.10/dist-packages/sklearn/base.py:493: UserWarning: X does not have valid feature names, but RandomForestClassifier was fitted with feature names\n",
            "  warnings.warn(\n",
            "/usr/local/lib/python3.10/dist-packages/sklearn/base.py:493: UserWarning: X does not have valid feature names, but RandomForestClassifier was fitted with feature names\n",
            "  warnings.warn(\n",
            "/usr/local/lib/python3.10/dist-packages/sklearn/base.py:493: UserWarning: X does not have valid feature names, but RandomForestClassifier was fitted with feature names\n",
            "  warnings.warn(\n",
            "/usr/local/lib/python3.10/dist-packages/sklearn/base.py:493: UserWarning: X does not have valid feature names, but RandomForestClassifier was fitted with feature names\n",
            "  warnings.warn(\n",
            "/usr/local/lib/python3.10/dist-packages/sklearn/base.py:493: UserWarning: X does not have valid feature names, but RandomForestClassifier was fitted with feature names\n",
            "  warnings.warn(\n",
            "/usr/local/lib/python3.10/dist-packages/sklearn/base.py:493: UserWarning: X does not have valid feature names, but RandomForestClassifier was fitted with feature names\n",
            "  warnings.warn(\n"
          ]
        },
        {
          "metadata": {
            "tags": null
          },
          "name": "stdout",
          "output_type": "stream",
          "text": [
            "predictin_prob: [[0.31 0.69]]\n",
            "Anomaly detected!\n",
            "Published decision: 'Anomaly detected!' to topic: 'anomaly/detection'\n",
            "Received message: 23.5 on topic: room1/temperature1\n",
            "Input vector for model: [[2.350000e+01 2.431000e+01 3.050000e+01 9.928849e+04]]\n",
            "predictin_prob: [[0.31 0.69]]\n",
            "Anomaly detected!\n",
            "Published decision: 'Anomaly detected!' to topic: 'anomaly/detection'\n",
            "Received message: 99639.55 on topic: room2/pressure2\n",
            "Input vector for model: [[2.350000e+01 2.431000e+01 3.050000e+01 9.928955e+04]]\n",
            "predictin_prob: [[0.31 0.69]]\n",
            "Anomaly detected!\n",
            "Published decision: 'Anomaly detected!' to topic: 'anomaly/detection'\n",
            "Received message: 33.2 on topic: room1/humidity1\n",
            "Input vector for model: [[2.350000e+01 2.431000e+01 2.920000e+01 9.928955e+04]]\n",
            "predictin_prob: [[0.31 0.69]]\n",
            "Anomaly detected!\n",
            "Published decision: 'Anomaly detected!' to topic: 'anomaly/detection'\n",
            "Received message: 25.16 on topic: room2/temperature2\n",
            "Input vector for model: [[2.350000e+01 2.426000e+01 2.920000e+01 9.928955e+04]]\n",
            "predictin_prob: [[0.31 0.69]]\n",
            "Anomaly detected!\n",
            "Published decision: 'Anomaly detected!' to topic: 'anomaly/detection'\n",
            "Received message: 25.1 on topic: room2/temperature2\n",
            "Input vector for model: [[2.350000e+01 2.420000e+01 2.920000e+01 9.928955e+04]]\n",
            "predictin_prob: [[0.31 0.69]]\n",
            "Anomaly detected!\n",
            "Published decision: 'Anomaly detected!' to topic: 'anomaly/detection'\n",
            "Received message: 23.5 on topic: room1/temperature1\n",
            "Input vector for model: [[2.350000e+01 2.420000e+01 2.920000e+01 9.928955e+04]]\n",
            "predictin_prob: [[0.31 0.69]]\n",
            "Anomaly detected!\n",
            "Published decision: 'Anomaly detected!' to topic: 'anomaly/detection'\n",
            "Received message: 32.0 on topic: room1/humidity1\n",
            "Input vector for model: [[2.350000e+01 2.420000e+01 2.800000e+01 9.928955e+04]]\n",
            "predictin_prob: [[0.31 0.69]]\n",
            "Anomaly detected!\n",
            "Published decision: 'Anomaly detected!' to topic: 'anomaly/detection'\n",
            "Received message: 99640.76 on topic: room2/pressure2\n",
            "Input vector for model: [[2.350000e+01 2.420000e+01 2.800000e+01 9.929076e+04]]\n",
            "predictin_prob: [[0.31 0.69]]\n",
            "Anomaly detected!\n",
            "Published decision: 'Anomaly detected!' to topic: 'anomaly/detection'\n",
            "Received message: 99639.79 on topic: room2/pressure2\n",
            "Input vector for model: [[2.350000e+01 2.420000e+01 2.800000e+01 9.928979e+04]]\n",
            "predictin_prob: [[0.31 0.69]]\n",
            "Anomaly detected!\n",
            "Published decision: 'Anomaly detected!' to topic: 'anomaly/detection'\n"
          ]
        },
        {
          "metadata": {
            "tags": null
          },
          "name": "stderr",
          "output_type": "stream",
          "text": [
            "/usr/local/lib/python3.10/dist-packages/sklearn/base.py:493: UserWarning: X does not have valid feature names, but RandomForestClassifier was fitted with feature names\n",
            "  warnings.warn(\n",
            "/usr/local/lib/python3.10/dist-packages/sklearn/base.py:493: UserWarning: X does not have valid feature names, but RandomForestClassifier was fitted with feature names\n",
            "  warnings.warn(\n",
            "/usr/local/lib/python3.10/dist-packages/sklearn/base.py:493: UserWarning: X does not have valid feature names, but RandomForestClassifier was fitted with feature names\n",
            "  warnings.warn(\n",
            "/usr/local/lib/python3.10/dist-packages/sklearn/base.py:493: UserWarning: X does not have valid feature names, but RandomForestClassifier was fitted with feature names\n",
            "  warnings.warn(\n",
            "/usr/local/lib/python3.10/dist-packages/sklearn/base.py:493: UserWarning: X does not have valid feature names, but RandomForestClassifier was fitted with feature names\n",
            "  warnings.warn(\n",
            "/usr/local/lib/python3.10/dist-packages/sklearn/base.py:493: UserWarning: X does not have valid feature names, but RandomForestClassifier was fitted with feature names\n",
            "  warnings.warn(\n",
            "/usr/local/lib/python3.10/dist-packages/sklearn/base.py:493: UserWarning: X does not have valid feature names, but RandomForestClassifier was fitted with feature names\n",
            "  warnings.warn(\n",
            "/usr/local/lib/python3.10/dist-packages/sklearn/base.py:493: UserWarning: X does not have valid feature names, but RandomForestClassifier was fitted with feature names\n",
            "  warnings.warn(\n",
            "/usr/local/lib/python3.10/dist-packages/sklearn/base.py:493: UserWarning: X does not have valid feature names, but RandomForestClassifier was fitted with feature names\n",
            "  warnings.warn(\n"
          ]
        },
        {
          "metadata": {
            "tags": null
          },
          "name": "stdout",
          "output_type": "stream",
          "text": [
            "Received message: 25.03 on topic: room2/temperature2\n",
            "Input vector for model: [[2.350000e+01 2.413000e+01 2.800000e+01 9.928979e+04]]\n",
            "predictin_prob: [[0.31 0.69]]\n",
            "Anomaly detected!\n",
            "Published decision: 'Anomaly detected!' to topic: 'anomaly/detection'\n",
            "Received message: 23.5 on topic: room1/temperature1\n",
            "Input vector for model: [[2.350000e+01 2.413000e+01 2.800000e+01 9.928979e+04]]\n",
            "predictin_prob: [[0.31 0.69]]\n",
            "Anomaly detected!\n",
            "Published decision: 'Anomaly detected!' to topic: 'anomaly/detection'\n",
            "Received message: 30.8 on topic: room1/humidity1\n",
            "Input vector for model: [[2.350000e+01 2.413000e+01 2.680000e+01 9.928979e+04]]\n",
            "predictin_prob: [[0.31 0.69]]\n",
            "Anomaly detected!\n",
            "Published decision: 'Anomaly detected!' to topic: 'anomaly/detection'\n",
            "Received message: 99638.09 on topic: room2/pressure2\n",
            "Input vector for model: [[2.350000e+01 2.413000e+01 2.680000e+01 9.928809e+04]]\n",
            "predictin_prob: [[0.31 0.69]]\n",
            "Anomaly detected!\n",
            "Published decision: 'Anomaly detected!' to topic: 'anomaly/detection'\n"
          ]
        },
        {
          "metadata": {
            "tags": null
          },
          "name": "stderr",
          "output_type": "stream",
          "text": [
            "/usr/local/lib/python3.10/dist-packages/sklearn/base.py:493: UserWarning: X does not have valid feature names, but RandomForestClassifier was fitted with feature names\n",
            "  warnings.warn(\n",
            "/usr/local/lib/python3.10/dist-packages/sklearn/base.py:493: UserWarning: X does not have valid feature names, but RandomForestClassifier was fitted with feature names\n",
            "  warnings.warn(\n",
            "/usr/local/lib/python3.10/dist-packages/sklearn/base.py:493: UserWarning: X does not have valid feature names, but RandomForestClassifier was fitted with feature names\n",
            "  warnings.warn(\n",
            "/usr/local/lib/python3.10/dist-packages/sklearn/base.py:493: UserWarning: X does not have valid feature names, but RandomForestClassifier was fitted with feature names\n",
            "  warnings.warn(\n"
          ]
        },
        {
          "metadata": {
            "tags": null
          },
          "name": "stdout",
          "output_type": "stream",
          "text": [
            "Received message: 24.98 on topic: room2/temperature2\n",
            "Input vector for model: [[2.350000e+01 2.408000e+01 2.680000e+01 9.928809e+04]]\n",
            "predictin_prob: [[0.31 0.69]]\n",
            "Anomaly detected!\n",
            "Published decision: 'Anomaly detected!' to topic: 'anomaly/detection'\n",
            "Received message: 23.5 on topic: room1/temperature1\n",
            "Input vector for model: [[2.350000e+01 2.408000e+01 2.680000e+01 9.928809e+04]]\n",
            "predictin_prob: [[0.31 0.69]]\n",
            "Anomaly detected!\n",
            "Published decision: 'Anomaly detected!' to topic: 'anomaly/detection'\n",
            "Received message: 29.9 on topic: room1/humidity1\n",
            "Input vector for model: [[2.350000e+01 2.408000e+01 2.590000e+01 9.928809e+04]]\n",
            "predictin_prob: [[0.31 0.69]]\n",
            "Anomaly detected!\n",
            "Published decision: 'Anomaly detected!' to topic: 'anomaly/detection'\n",
            "Received message: 99639.19 on topic: room2/pressure2\n",
            "Input vector for model: [[2.350000e+01 2.408000e+01 2.590000e+01 9.928919e+04]]\n",
            "predictin_prob: [[0.31 0.69]]\n",
            "Anomaly detected!\n",
            "Published decision: 'Anomaly detected!' to topic: 'anomaly/detection'\n"
          ]
        },
        {
          "metadata": {
            "tags": null
          },
          "name": "stderr",
          "output_type": "stream",
          "text": [
            "/usr/local/lib/python3.10/dist-packages/sklearn/base.py:493: UserWarning: X does not have valid feature names, but RandomForestClassifier was fitted with feature names\n",
            "  warnings.warn(\n",
            "/usr/local/lib/python3.10/dist-packages/sklearn/base.py:493: UserWarning: X does not have valid feature names, but RandomForestClassifier was fitted with feature names\n",
            "  warnings.warn(\n",
            "/usr/local/lib/python3.10/dist-packages/sklearn/base.py:493: UserWarning: X does not have valid feature names, but RandomForestClassifier was fitted with feature names\n",
            "  warnings.warn(\n",
            "/usr/local/lib/python3.10/dist-packages/sklearn/base.py:493: UserWarning: X does not have valid feature names, but RandomForestClassifier was fitted with feature names\n",
            "  warnings.warn(\n"
          ]
        },
        {
          "metadata": {
            "tags": null
          },
          "name": "stdout",
          "output_type": "stream",
          "text": [
            "Received message: 24.93 on topic: room2/temperature2\n",
            "Input vector for model: [[2.350000e+01 2.403000e+01 2.590000e+01 9.928919e+04]]\n",
            "predictin_prob: [[0.31 0.69]]\n",
            "Anomaly detected!\n",
            "Published decision: 'Anomaly detected!' to topic: 'anomaly/detection'\n",
            "Received message: 23.5 on topic: room1/temperature1\n",
            "Input vector for model: [[2.350000e+01 2.403000e+01 2.590000e+01 9.928919e+04]]\n",
            "predictin_prob: [[0.31 0.69]]\n",
            "Anomaly detected!\n",
            "Published decision: 'Anomaly detected!' to topic: 'anomaly/detection'\n",
            "Received message: 99638.31 on topic: room2/pressure2\n",
            "Input vector for model: [[2.350000e+01 2.403000e+01 2.590000e+01 9.928831e+04]]\n",
            "predictin_prob: [[0.31 0.69]]\n",
            "Anomaly detected!\n",
            "Published decision: 'Anomaly detected!' to topic: 'anomaly/detection'\n",
            "Received message: 28.9 on topic: room1/humidity1\n",
            "Input vector for model: [[2.350000e+01 2.403000e+01 2.490000e+01 9.928831e+04]]\n",
            "predictin_prob: [[0.31 0.69]]\n",
            "Anomaly detected!\n",
            "Published decision: 'Anomaly detected!' to topic: 'anomaly/detection'\n"
          ]
        },
        {
          "metadata": {
            "tags": null
          },
          "name": "stderr",
          "output_type": "stream",
          "text": [
            "/usr/local/lib/python3.10/dist-packages/sklearn/base.py:493: UserWarning: X does not have valid feature names, but RandomForestClassifier was fitted with feature names\n",
            "  warnings.warn(\n",
            "/usr/local/lib/python3.10/dist-packages/sklearn/base.py:493: UserWarning: X does not have valid feature names, but RandomForestClassifier was fitted with feature names\n",
            "  warnings.warn(\n",
            "/usr/local/lib/python3.10/dist-packages/sklearn/base.py:493: UserWarning: X does not have valid feature names, but RandomForestClassifier was fitted with feature names\n",
            "  warnings.warn(\n",
            "/usr/local/lib/python3.10/dist-packages/sklearn/base.py:493: UserWarning: X does not have valid feature names, but RandomForestClassifier was fitted with feature names\n",
            "  warnings.warn(\n"
          ]
        },
        {
          "metadata": {
            "tags": null
          },
          "name": "stdout",
          "output_type": "stream",
          "text": [
            "Received message: 24.88 on topic: room2/temperature2\n",
            "Input vector for model: [[2.350000e+01 2.398000e+01 2.490000e+01 9.928831e+04]]\n",
            "predictin_prob: [[0.31 0.69]]\n",
            "Anomaly detected!\n",
            "Published decision: 'Anomaly detected!' to topic: 'anomaly/detection'\n",
            "Received message: 23.5 on topic: room1/temperature1\n",
            "Input vector for model: [[2.350000e+01 2.398000e+01 2.490000e+01 9.928831e+04]]\n",
            "predictin_prob: [[0.31 0.69]]\n",
            "Anomaly detected!\n",
            "Published decision: 'Anomaly detected!' to topic: 'anomaly/detection'\n",
            "Received message: 28.0 on topic: room1/humidity1\n",
            "Input vector for model: [[2.350000e+01 2.398000e+01 2.400000e+01 9.928831e+04]]\n",
            "predictin_prob: [[0.31 0.69]]\n",
            "Anomaly detected!\n",
            "Published decision: 'Anomaly detected!' to topic: 'anomaly/detection'\n",
            "Received message: 99640.2 on topic: room2/pressure2\n",
            "Input vector for model: [[2.35000e+01 2.39800e+01 2.40000e+01 9.92902e+04]]\n",
            "predictin_prob: [[0.31 0.69]]\n",
            "Anomaly detected!\n",
            "Published decision: 'Anomaly detected!' to topic: 'anomaly/detection'\n"
          ]
        },
        {
          "metadata": {
            "tags": null
          },
          "name": "stderr",
          "output_type": "stream",
          "text": [
            "/usr/local/lib/python3.10/dist-packages/sklearn/base.py:493: UserWarning: X does not have valid feature names, but RandomForestClassifier was fitted with feature names\n",
            "  warnings.warn(\n",
            "/usr/local/lib/python3.10/dist-packages/sklearn/base.py:493: UserWarning: X does not have valid feature names, but RandomForestClassifier was fitted with feature names\n",
            "  warnings.warn(\n",
            "/usr/local/lib/python3.10/dist-packages/sklearn/base.py:493: UserWarning: X does not have valid feature names, but RandomForestClassifier was fitted with feature names\n",
            "  warnings.warn(\n",
            "/usr/local/lib/python3.10/dist-packages/sklearn/base.py:493: UserWarning: X does not have valid feature names, but RandomForestClassifier was fitted with feature names\n",
            "  warnings.warn(\n"
          ]
        },
        {
          "metadata": {
            "tags": null
          },
          "name": "stdout",
          "output_type": "stream",
          "text": [
            "Received message: 24.83 on topic: room2/temperature2\n",
            "Input vector for model: [[2.35000e+01 2.39300e+01 2.40000e+01 9.92902e+04]]\n",
            "predictin_prob: [[0.31 0.69]]\n",
            "Anomaly detected!\n",
            "Published decision: 'Anomaly detected!' to topic: 'anomaly/detection'\n",
            "Received message: 23.5 on topic: room1/temperature1\n",
            "Input vector for model: [[2.35000e+01 2.39300e+01 2.40000e+01 9.92902e+04]]\n",
            "predictin_prob: [[0.31 0.69]]\n",
            "Anomaly detected!\n",
            "Published decision: 'Anomaly detected!' to topic: 'anomaly/detection'\n",
            "Received message: 27.2 on topic: room1/humidity1\n",
            "Input vector for model: [[2.35000e+01 2.39300e+01 2.32000e+01 9.92902e+04]]\n",
            "predictin_prob: [[0.31 0.69]]\n",
            "Anomaly detected!\n",
            "Published decision: 'Anomaly detected!' to topic: 'anomaly/detection'\n",
            "Received message: 99639.38 on topic: room2/pressure2\n",
            "Input vector for model: [[2.350000e+01 2.393000e+01 2.320000e+01 9.928938e+04]]\n",
            "predictin_prob: [[0.31 0.69]]\n",
            "Anomaly detected!\n",
            "Published decision: 'Anomaly detected!' to topic: 'anomaly/detection'\n"
          ]
        },
        {
          "metadata": {
            "tags": null
          },
          "name": "stderr",
          "output_type": "stream",
          "text": [
            "/usr/local/lib/python3.10/dist-packages/sklearn/base.py:493: UserWarning: X does not have valid feature names, but RandomForestClassifier was fitted with feature names\n",
            "  warnings.warn(\n",
            "/usr/local/lib/python3.10/dist-packages/sklearn/base.py:493: UserWarning: X does not have valid feature names, but RandomForestClassifier was fitted with feature names\n",
            "  warnings.warn(\n",
            "/usr/local/lib/python3.10/dist-packages/sklearn/base.py:493: UserWarning: X does not have valid feature names, but RandomForestClassifier was fitted with feature names\n",
            "  warnings.warn(\n",
            "/usr/local/lib/python3.10/dist-packages/sklearn/base.py:493: UserWarning: X does not have valid feature names, but RandomForestClassifier was fitted with feature names\n",
            "  warnings.warn(\n"
          ]
        },
        {
          "metadata": {
            "tags": null
          },
          "name": "stdout",
          "output_type": "stream",
          "text": [
            "Received message: 24.78 on topic: room2/temperature2\n",
            "Input vector for model: [[2.350000e+01 2.388000e+01 2.320000e+01 9.928938e+04]]\n",
            "predictin_prob: [[0.31 0.69]]\n",
            "Anomaly detected!\n",
            "Published decision: 'Anomaly detected!' to topic: 'anomaly/detection'\n",
            "Received message: 23.5 on topic: room1/temperature1\n",
            "Input vector for model: [[2.350000e+01 2.388000e+01 2.320000e+01 9.928938e+04]]\n",
            "predictin_prob: [[0.31 0.69]]\n",
            "Anomaly detected!\n",
            "Published decision: 'Anomaly detected!' to topic: 'anomaly/detection'\n",
            "Received message: 26.6 on topic: room1/humidity1\n",
            "Input vector for model: [[2.350000e+01 2.388000e+01 2.260000e+01 9.928938e+04]]\n",
            "predictin_prob: [[0.31 0.69]]\n",
            "Anomaly detected!\n",
            "Published decision: 'Anomaly detected!' to topic: 'anomaly/detection'\n",
            "Received message: 99639.27 on topic: room2/pressure2\n",
            "Input vector for model: [[2.350000e+01 2.388000e+01 2.260000e+01 9.928927e+04]]\n",
            "predictin_prob: [[0.31 0.69]]\n",
            "Anomaly detected!\n",
            "Published decision: 'Anomaly detected!' to topic: 'anomaly/detection'\n"
          ]
        },
        {
          "metadata": {
            "tags": null
          },
          "name": "stderr",
          "output_type": "stream",
          "text": [
            "/usr/local/lib/python3.10/dist-packages/sklearn/base.py:493: UserWarning: X does not have valid feature names, but RandomForestClassifier was fitted with feature names\n",
            "  warnings.warn(\n",
            "/usr/local/lib/python3.10/dist-packages/sklearn/base.py:493: UserWarning: X does not have valid feature names, but RandomForestClassifier was fitted with feature names\n",
            "  warnings.warn(\n",
            "/usr/local/lib/python3.10/dist-packages/sklearn/base.py:493: UserWarning: X does not have valid feature names, but RandomForestClassifier was fitted with feature names\n",
            "  warnings.warn(\n",
            "/usr/local/lib/python3.10/dist-packages/sklearn/base.py:493: UserWarning: X does not have valid feature names, but RandomForestClassifier was fitted with feature names\n",
            "  warnings.warn(\n"
          ]
        },
        {
          "metadata": {
            "tags": null
          },
          "name": "stdout",
          "output_type": "stream",
          "text": [
            "Received message: 24.72 on topic: room2/temperature2\n",
            "Input vector for model: [[2.350000e+01 2.382000e+01 2.260000e+01 9.928927e+04]]\n",
            "predictin_prob: [[0.31 0.69]]\n",
            "Anomaly detected!\n",
            "Published decision: 'Anomaly detected!' to topic: 'anomaly/detection'\n",
            "Received message: 23.4 on topic: room1/temperature1\n",
            "Input vector for model: [[2.340000e+01 2.382000e+01 2.260000e+01 9.928927e+04]]\n",
            "predictin_prob: [[0.31 0.69]]\n",
            "Anomaly detected!\n",
            "Published decision: 'Anomaly detected!' to topic: 'anomaly/detection'\n",
            "Received message: 23.4 on topic: room1/temperature1\n",
            "Input vector for model: [[2.340000e+01 2.382000e+01 2.260000e+01 9.928927e+04]]\n",
            "predictin_prob: [[0.31 0.69]]\n",
            "Anomaly detected!\n",
            "Published decision: 'Anomaly detected!' to topic: 'anomaly/detection'\n",
            "Received message: 99637.66 on topic: room2/pressure2\n",
            "Input vector for model: [[2.340000e+01 2.382000e+01 2.260000e+01 9.928766e+04]]\n",
            "predictin_prob: [[0.31 0.69]]\n",
            "Anomaly detected!\n",
            "Published decision: 'Anomaly detected!' to topic: 'anomaly/detection'\n",
            "Received message: 26.0 on topic: room1/humidity1\n",
            "Input vector for model: [[2.340000e+01 2.382000e+01 2.200000e+01 9.928766e+04]]\n",
            "predictin_prob: [[0.31 0.69]]\n",
            "Anomaly detected!\n",
            "Published decision: 'Anomaly detected!' to topic: 'anomaly/detection'\n"
          ]
        },
        {
          "metadata": {
            "tags": null
          },
          "name": "stderr",
          "output_type": "stream",
          "text": [
            "/usr/local/lib/python3.10/dist-packages/sklearn/base.py:493: UserWarning: X does not have valid feature names, but RandomForestClassifier was fitted with feature names\n",
            "  warnings.warn(\n",
            "/usr/local/lib/python3.10/dist-packages/sklearn/base.py:493: UserWarning: X does not have valid feature names, but RandomForestClassifier was fitted with feature names\n",
            "  warnings.warn(\n",
            "/usr/local/lib/python3.10/dist-packages/sklearn/base.py:493: UserWarning: X does not have valid feature names, but RandomForestClassifier was fitted with feature names\n",
            "  warnings.warn(\n",
            "/usr/local/lib/python3.10/dist-packages/sklearn/base.py:493: UserWarning: X does not have valid feature names, but RandomForestClassifier was fitted with feature names\n",
            "  warnings.warn(\n",
            "/usr/local/lib/python3.10/dist-packages/sklearn/base.py:493: UserWarning: X does not have valid feature names, but RandomForestClassifier was fitted with feature names\n",
            "  warnings.warn(\n"
          ]
        },
        {
          "metadata": {
            "tags": null
          },
          "name": "stdout",
          "output_type": "stream",
          "text": [
            "Received message: 24.67 on topic: room2/temperature2\n",
            "Input vector for model: [[2.340000e+01 2.377000e+01 2.200000e+01 9.928766e+04]]\n",
            "predictin_prob: [[0.31 0.69]]\n",
            "Anomaly detected!\n",
            "Published decision: 'Anomaly detected!' to topic: 'anomaly/detection'\n",
            "Received message: 24.62 on topic: room2/temperature2\n",
            "Input vector for model: [[2.340000e+01 2.372000e+01 2.200000e+01 9.928766e+04]]\n",
            "predictin_prob: [[0.31 0.69]]\n",
            "Anomaly detected!\n",
            "Published decision: 'Anomaly detected!' to topic: 'anomaly/detection'\n",
            "Received message: 24.58 on topic: room2/temperature2\n",
            "Input vector for model: [[2.340000e+01 2.368000e+01 2.200000e+01 9.928766e+04]]\n",
            "predictin_prob: [[0.31 0.69]]\n",
            "Anomaly detected!\n",
            "Published decision: 'Anomaly detected!' to topic: 'anomaly/detection'\n",
            "Received message: 23.4 on topic: room1/temperature1\n",
            "Input vector for model: [[2.340000e+01 2.368000e+01 2.200000e+01 9.928766e+04]]\n",
            "predictin_prob: [[0.31 0.69]]\n",
            "Anomaly detected!\n",
            "Published decision: 'Anomaly detected!' to topic: 'anomaly/detection'\n",
            "Received message: 23.4 on topic: room1/temperature1\n",
            "Input vector for model: [[2.340000e+01 2.368000e+01 2.200000e+01 9.928766e+04]]\n",
            "predictin_prob: [[0.31 0.69]]\n",
            "Anomaly detected!\n",
            "Published decision: 'Anomaly detected!' to topic: 'anomaly/detection'\n",
            "Received message: 25.4 on topic: room1/humidity1\n",
            "Input vector for model: [[2.340000e+01 2.368000e+01 2.140000e+01 9.928766e+04]]\n",
            "predictin_prob: [[0.31 0.69]]\n",
            "Anomaly detected!\n",
            "Published decision: 'Anomaly detected!' to topic: 'anomaly/detection'\n",
            "Received message: 25.0 on topic: room1/humidity1\n",
            "Input vector for model: [[2.340000e+01 2.368000e+01 2.100000e+01 9.928766e+04]]\n",
            "predictin_prob: [[0.31 0.69]]\n",
            "Anomaly detected!\n",
            "Published decision: 'Anomaly detected!' to topic: 'anomaly/detection'\n",
            "Received message: 99639.57 on topic: room2/pressure2\n",
            "Input vector for model: [[2.340000e+01 2.368000e+01 2.100000e+01 9.928957e+04]]\n",
            "predictin_prob: [[0.31 0.69]]\n",
            "Anomaly detected!\n",
            "Published decision: 'Anomaly detected!' to topic: 'anomaly/detection'\n",
            "Received message: 24.5 on topic: room1/humidity1\n",
            "Input vector for model: [[2.340000e+01 2.368000e+01 2.050000e+01 9.928957e+04]]\n",
            "predictin_prob: [[0.31 0.69]]\n",
            "Anomaly detected!\n",
            "Published decision: 'Anomaly detected!' to topic: 'anomaly/detection'\n",
            "Received message: 99639.41 on topic: room2/pressure2\n",
            "Input vector for model: [[2.340000e+01 2.368000e+01 2.050000e+01 9.928941e+04]]\n",
            "predictin_prob: [[0.31 0.69]]\n",
            "Anomaly detected!\n",
            "Published decision: 'Anomaly detected!' to topic: 'anomaly/detection'\n",
            "Received message: 99640.73 on topic: room2/pressure2\n",
            "Input vector for model: [[2.340000e+01 2.368000e+01 2.050000e+01 9.929073e+04]]\n",
            "predictin_prob: [[0.31 0.69]]\n",
            "Anomaly detected!\n",
            "Published decision: 'Anomaly detected!' to topic: 'anomaly/detection'\n"
          ]
        },
        {
          "metadata": {
            "tags": null
          },
          "name": "stderr",
          "output_type": "stream",
          "text": [
            "/usr/local/lib/python3.10/dist-packages/sklearn/base.py:493: UserWarning: X does not have valid feature names, but RandomForestClassifier was fitted with feature names\n",
            "  warnings.warn(\n",
            "/usr/local/lib/python3.10/dist-packages/sklearn/base.py:493: UserWarning: X does not have valid feature names, but RandomForestClassifier was fitted with feature names\n",
            "  warnings.warn(\n",
            "/usr/local/lib/python3.10/dist-packages/sklearn/base.py:493: UserWarning: X does not have valid feature names, but RandomForestClassifier was fitted with feature names\n",
            "  warnings.warn(\n",
            "/usr/local/lib/python3.10/dist-packages/sklearn/base.py:493: UserWarning: X does not have valid feature names, but RandomForestClassifier was fitted with feature names\n",
            "  warnings.warn(\n",
            "/usr/local/lib/python3.10/dist-packages/sklearn/base.py:493: UserWarning: X does not have valid feature names, but RandomForestClassifier was fitted with feature names\n",
            "  warnings.warn(\n",
            "/usr/local/lib/python3.10/dist-packages/sklearn/base.py:493: UserWarning: X does not have valid feature names, but RandomForestClassifier was fitted with feature names\n",
            "  warnings.warn(\n",
            "/usr/local/lib/python3.10/dist-packages/sklearn/base.py:493: UserWarning: X does not have valid feature names, but RandomForestClassifier was fitted with feature names\n",
            "  warnings.warn(\n",
            "/usr/local/lib/python3.10/dist-packages/sklearn/base.py:493: UserWarning: X does not have valid feature names, but RandomForestClassifier was fitted with feature names\n",
            "  warnings.warn(\n",
            "/usr/local/lib/python3.10/dist-packages/sklearn/base.py:493: UserWarning: X does not have valid feature names, but RandomForestClassifier was fitted with feature names\n",
            "  warnings.warn(\n",
            "/usr/local/lib/python3.10/dist-packages/sklearn/base.py:493: UserWarning: X does not have valid feature names, but RandomForestClassifier was fitted with feature names\n",
            "  warnings.warn(\n",
            "/usr/local/lib/python3.10/dist-packages/sklearn/base.py:493: UserWarning: X does not have valid feature names, but RandomForestClassifier was fitted with feature names\n",
            "  warnings.warn(\n"
          ]
        },
        {
          "output_type": "error",
          "ename": "KeyboardInterrupt",
          "evalue": "",
          "traceback": [
            "\u001b[0;31m---------------------------------------------------------------------------\u001b[0m",
            "\u001b[0;31mKeyboardInterrupt\u001b[0m                         Traceback (most recent call last)",
            "\u001b[0;32m<ipython-input-10-dd8d1889e9ca>\u001b[0m in \u001b[0;36m<cell line: 103>\u001b[0;34m()\u001b[0m\n\u001b[1;32m    101\u001b[0m \u001b[0;34m\u001b[0m\u001b[0m\n\u001b[1;32m    102\u001b[0m \u001b[0;31m# Start listening for messages\u001b[0m\u001b[0;34m\u001b[0m\u001b[0;34m\u001b[0m\u001b[0m\n\u001b[0;32m--> 103\u001b[0;31m \u001b[0mclient\u001b[0m\u001b[0;34m.\u001b[0m\u001b[0mloop_forever\u001b[0m\u001b[0;34m(\u001b[0m\u001b[0;34m)\u001b[0m  \u001b[0;31m# Blocking loop to listen indefinitely\u001b[0m\u001b[0;34m\u001b[0m\u001b[0;34m\u001b[0m\u001b[0m\n\u001b[0m",
            "\u001b[0;32m/usr/local/lib/python3.10/dist-packages/paho/mqtt/client.py\u001b[0m in \u001b[0;36mloop_forever\u001b[0;34m(self, timeout, retry_first_connection)\u001b[0m\n\u001b[1;32m   2295\u001b[0m             \u001b[0mrc\u001b[0m \u001b[0;34m=\u001b[0m \u001b[0mMQTTErrorCode\u001b[0m\u001b[0;34m.\u001b[0m\u001b[0mMQTT_ERR_SUCCESS\u001b[0m\u001b[0;34m\u001b[0m\u001b[0;34m\u001b[0m\u001b[0m\n\u001b[1;32m   2296\u001b[0m             \u001b[0;32mwhile\u001b[0m \u001b[0mrc\u001b[0m \u001b[0;34m==\u001b[0m \u001b[0mMQTTErrorCode\u001b[0m\u001b[0;34m.\u001b[0m\u001b[0mMQTT_ERR_SUCCESS\u001b[0m\u001b[0;34m:\u001b[0m\u001b[0;34m\u001b[0m\u001b[0;34m\u001b[0m\u001b[0m\n\u001b[0;32m-> 2297\u001b[0;31m                 \u001b[0mrc\u001b[0m \u001b[0;34m=\u001b[0m \u001b[0mself\u001b[0m\u001b[0;34m.\u001b[0m\u001b[0m_loop\u001b[0m\u001b[0;34m(\u001b[0m\u001b[0mtimeout\u001b[0m\u001b[0;34m)\u001b[0m\u001b[0;34m\u001b[0m\u001b[0;34m\u001b[0m\u001b[0m\n\u001b[0m\u001b[1;32m   2298\u001b[0m                 \u001b[0;31m# We don't need to worry about locking here, because we've\u001b[0m\u001b[0;34m\u001b[0m\u001b[0;34m\u001b[0m\u001b[0m\n\u001b[1;32m   2299\u001b[0m                 \u001b[0;31m# either called loop_forever() when in single threaded mode, or\u001b[0m\u001b[0;34m\u001b[0m\u001b[0;34m\u001b[0m\u001b[0m\n",
            "\u001b[0;32m/usr/local/lib/python3.10/dist-packages/paho/mqtt/client.py\u001b[0m in \u001b[0;36m_loop\u001b[0;34m(self, timeout)\u001b[0m\n\u001b[1;32m   1661\u001b[0m \u001b[0;34m\u001b[0m\u001b[0m\n\u001b[1;32m   1662\u001b[0m         \u001b[0;32mtry\u001b[0m\u001b[0;34m:\u001b[0m\u001b[0;34m\u001b[0m\u001b[0;34m\u001b[0m\u001b[0m\n\u001b[0;32m-> 1663\u001b[0;31m             \u001b[0msocklist\u001b[0m \u001b[0;34m=\u001b[0m \u001b[0mselect\u001b[0m\u001b[0;34m.\u001b[0m\u001b[0mselect\u001b[0m\u001b[0;34m(\u001b[0m\u001b[0mrlist\u001b[0m\u001b[0;34m,\u001b[0m \u001b[0mwlist\u001b[0m\u001b[0;34m,\u001b[0m \u001b[0;34m[\u001b[0m\u001b[0;34m]\u001b[0m\u001b[0;34m,\u001b[0m \u001b[0mtimeout\u001b[0m\u001b[0;34m)\u001b[0m\u001b[0;34m\u001b[0m\u001b[0;34m\u001b[0m\u001b[0m\n\u001b[0m\u001b[1;32m   1664\u001b[0m         \u001b[0;32mexcept\u001b[0m \u001b[0mTypeError\u001b[0m\u001b[0;34m:\u001b[0m\u001b[0;34m\u001b[0m\u001b[0;34m\u001b[0m\u001b[0m\n\u001b[1;32m   1665\u001b[0m             \u001b[0;31m# Socket isn't correct type, in likelihood connection is lost\u001b[0m\u001b[0;34m\u001b[0m\u001b[0;34m\u001b[0m\u001b[0m\n",
            "\u001b[0;31mKeyboardInterrupt\u001b[0m: "
          ]
        }
      ],
      "source": [
        "import paho.mqtt.client as mqtt\n",
        "import joblib\n",
        "import numpy as np\n",
        "\n",
        "\n",
        "# Define the topics\n",
        "topics = [\n",
        "    \"room1/temperature1\",\n",
        "    \"room1/humidity1\",\n",
        "    \"room2/temperature2\",\n",
        "    \"room2/pressure2\"\n",
        "]\n",
        "\n",
        "# Dictionary to store the latest values from each topic\n",
        "data = {\n",
        "    \"room1/temperature1\": None,\n",
        "    \"room1/humidity1\": None,\n",
        "    \"room2/temperature2\": None,\n",
        "    \"room2/pressure2\": None\n",
        "}\n",
        "\n",
        "# Define the callback for when a message is received\n",
        "def on_message(client, userdata, message):\n",
        "    global data\n",
        "    topic = message.topic\n",
        "    value = float(message.payload.decode())  # Convert message to float\n",
        "    print(f\"Received message: {value} on topic: {topic}\")\n",
        "\n",
        "    # Update the latest value for the topic\n",
        "    if topic in data:\n",
        "        data[topic] = value\n",
        "\n",
        "    # Check if all data points are received\n",
        "    if all(v is not None for v in data.values()):\n",
        "        # Reorganize data into the expected input format [temp1, temp2, hum1, press2]\n",
        "        input_vector = np.array([\n",
        "            data[\"room1/temperature1\"],  # temp1\n",
        "            data[\"room2/temperature2\"] - 0.9,  # temp2\n",
        "            data[\"room1/humidity1\"] - 4,     # hum1\n",
        "            data[\"room2/pressure2\"] - 350      # press2\n",
        "        ]).reshape(1, -1)  # Reshape into column vector\n",
        "        print(f\"Input vector for model: {input_vector}\")\n",
        "        predict_anomaly(input_vector)  # Pass the data to the anomaly detection model\n",
        "\n",
        "# Define the callback for when the client connects to the broker\n",
        "def on_connect(client, userdata, flags, rc):\n",
        "    print(f\"Connected with result code {rc}\")\n",
        "    if rc == 0:\n",
        "        # Subscribe to all topics\n",
        "        for topic in topics:\n",
        "            client.subscribe(topic, qos=1)\n",
        "            print(f\"Subscribed to topic: {topic}\")\n",
        "    else:\n",
        "        print(\"Connection failed. Check your credentials or network settings.\")\n",
        "\n",
        "# Function to predict anomalies\n",
        "def predict_anomaly(input_vector):\n",
        "    # Predict using the Random Forest model (no scaling)\n",
        "    prediction_prob = model.predict_proba(input_vector)  # Input data is already reshaped\n",
        "    normal_score = prediction_prob[0,0]\n",
        "    anomoly_score = prediction_prob[0,1]\n",
        "    threshold = 0.5  # Adjust based on your model\n",
        "    print(\"predictin_prob:\",prediction_prob)\n",
        "\n",
        "    # Check the prediction and determine if it's an anomaly or not\n",
        "    if anomoly_score >= threshold:\n",
        "        decision = \"Anomaly detected!\"  # If the anomaly score is higher than the threshold\n",
        "    else:\n",
        "        decision = \"Normal data.\"\n",
        "\n",
        "    # Print the decision locally\n",
        "    print(decision)\n",
        "\n",
        "    # Publish the decision to a new topic\n",
        "    publish_topic = \"anomaly/detection\"\n",
        "    client.publish(publish_topic, decision, qos=1)\n",
        "    print(f\"Published decision: '{decision}' to topic: '{publish_topic}'\")\n",
        "\n",
        "# Set up the MQTT client\n",
        "broker = \"cd6cdc287a1e4a5eb09c6350c2489f9c.s1.eu.hivemq.cloud\"\n",
        "port = 8883  # SSL port\n",
        "username = \"abutaherhivemq\"\n",
        "password = \"Abutaherhivemq03\"\n",
        "\n",
        "client = mqtt.Client()\n",
        "\n",
        "# Set credentials\n",
        "client.username_pw_set(username, password)\n",
        "\n",
        "# Enable SSL/TLS\n",
        "client.tls_set()  # Enable TLS encryption\n",
        "\n",
        "# Attach the callbacks\n",
        "client.on_message = on_message\n",
        "client.on_connect = on_connect\n",
        "\n",
        "# Connect to the broker and subscribe to the topics\n",
        "client.connect(broker, port, 60)\n",
        "\n",
        "print(f\"Subscribed to topics {topics} and listening for messages...\")\n",
        "\n",
        "# Start listening for messages\n",
        "client.loop_forever()  # Blocking loop to listen indefinitely\n"
      ]
    }
  ],
  "metadata": {
    "colab": {
      "provenance": []
    },
    "kernelspec": {
      "display_name": "Python 3",
      "name": "python3"
    },
    "language_info": {
      "name": "python"
    }
  },
  "nbformat": 4,
  "nbformat_minor": 0
}